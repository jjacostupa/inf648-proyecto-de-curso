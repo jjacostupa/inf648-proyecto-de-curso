{
 "cells": [
  {
   "cell_type": "code",
   "execution_count": 40,
   "metadata": {},
   "outputs": [],
   "source": [
    "!pip install ucimlrepo scikit-learn matplotlib -q"
   ]
  },
  {
   "cell_type": "code",
   "execution_count": 3,
   "metadata": {},
   "outputs": [
    {
     "name": "stdout",
     "output_type": "stream",
     "text": [
      "{'uci_id': 579, 'name': 'Myocardial infarction complications', 'repository_url': 'https://archive.ics.uci.edu/dataset/579/myocardial+infarction+complications', 'data_url': 'https://archive.ics.uci.edu/static/public/579/data.csv', 'abstract': 'Prediction of myocardial infarction complications', 'area': 'Health and Medicine', 'tasks': ['Classification'], 'characteristics': ['Multivariate'], 'num_instances': 1700, 'num_features': 111, 'feature_types': ['Real'], 'demographics': ['Age', 'Sex'], 'target_col': ['FIBR_PREDS', 'PREDS_TAH', 'JELUD_TAH', 'FIBR_JELUD', 'A_V_BLOK', 'OTEK_LANC', 'RAZRIV', 'DRESSLER', 'ZSN', 'REC_IM', 'P_IM_STEN', 'LET_IS'], 'index_col': ['ID'], 'has_missing_values': 'yes', 'missing_values_symbol': 'NaN', 'year_of_dataset_creation': 2020, 'last_updated': 'Fri Nov 03 2023', 'dataset_doi': '10.24432/C53P5M', 'creators': ['S.E. Golovenkin', 'V.A. Shulman', 'D.A. Rossiev', 'P.A. Shesternya', 'S.Yu. Nikulina', 'Yu.V. Orlova', 'V.F. Voino-Yasenetsky'], 'intro_paper': {'title': 'Trajectories, bifurcations, and pseudo-time in large clinical datasets: applications to myocardial infarction and diabetes data', 'authors': 'S. E. Golovenkin, Jonathan Bac, A. Chervov, E. M. Mirkes, Y. Orlova, E. Barillot, A. Gorban, A. Zinovyev', 'published_in': 'GigaScience', 'year': 2020, 'url': 'https://www.semanticscholar.org/paper/0ea5a469d4f0d83ce6a0d2f7215269877afaf628', 'doi': None}, 'additional_info': {'summary': 'Problems of real-life complexity are needed to test and compare various data mining and pattern recognition methods. The proposed database can be used to solve two practically important problems: predicting complications of Myocardial Infarction (MI) based on information about the patient (i) at the time of admission and (ii) on the third day of the hospital period. Another important group of tasks is phenotyping of disease (cluster analysis), dynamic phenotyping (filament extraction and identification of disease trajectories) and visualisation (disease mapping). \\r\\nMI is one of the most challenging problems of modern medicine. Acute myocardial infarction is associated with high mortality in the first year after it. The incidence of MI remains high in all countries. This is especially true for the urban population of highly developed countries, which is exposed to chronic stress factors, irregular and not always balanced nutrition. In the United States, for example, more than a million people suffer from MI every year, and 200-300 thousand of them die from acute MI before arriving at the hospital. \\r\\nThe course of the disease in patients with MI is different. MI can occur without complications or with complications that do not worsen the long-term prognosis. At the same time, about half of patients in the acute and subacute periods have complications that lead to worsening of the disease and even death. Even an experienced specialist can not always foresee the development of these complications. In this regard, predicting complications of myocardial infarction in order to timely carry out the necessary preventive measures is an important task. \\r\\n\\r\\nProblems to solve\\r\\nIn general columns 2-112 can be used as input data for prediction. Possible complications (outputs) are listed in columns 113-124.\\r\\nThere are four possible time moments for complication prediction: on base of the information known at\\r\\n1.\\tthe time of admission to hospital: all input columns (2-112) except 93, 94, 95, 100, 101, 102, 103, 104, 105 can be used for prediction;\\r\\n2.\\tthe end of the first day (24 hours after admission to the hospital): all input columns (2-112) except 94, 95, 101, 102, 104, 105 can be used for prediction;\\r\\n3.\\tthe end of the second day (48 hours after admission to the hospital) all input columns (2-112) except 95, 102, 105 can be used for prediction;\\r\\n4.\\tthe end of the third day (72 hours after admission to the hospital) all input columns (2-112) can be used for prediction.\\r\\n\\r\\nYou can find detailed description of database, descriptive statistics and csv version of database in DOI: 10.25392/leicester.data.12045261.v3\\r\\n', 'purpose': None, 'funded_by': None, 'instances_represent': None, 'recommended_data_splits': None, 'sensitive_data': None, 'preprocessing_description': None, 'variable_info': 'Table of abbreviations\\r\\nFC is the functional class of angina pectoris in the last year according to Campeau, L., 1976. Grading of angina pectoris. Circulation, 54(3), pp.522-523.\\r\\nCHD is coronary heart disease.\\r\\nHF is heart failure.\\r\\nECG is electrocardiogram.\\r\\nAV is atrioventricular block.\\r\\nLBBB is left bundle branch block.\\r\\nRBBB is right bundle branch block.\\r\\nQRS is QRS complex in ECG\\r\\nIU is international unit.\\r\\nICU is intensive care unit.\\r\\nESR is erythrocyte sedimentation rate.\\r\\nNSAID is non-steroidal anti-inflammatory drugs.\\r\\n\\r\\nList of attributes\\r\\n1. Record ID (ID): Unique identifier. Cannot be related to participant. It can be used for reference only.\\r\\n2. Age (AGE): Real. Age of patient.\\r\\n3. Gender (SEX): Nominal: \\r\\n\\t\\t\\tCases\\tFraction\\r\\n0: female\\t635\\t37.35%\\r\\n1: male\\t1065\\t62.65%\\r\\nMissing\\t\\t0\\t0%\\r\\n4. Quantity of myocardial infarctions in the anamnesis (INF_ANAM): Ordinal\\r\\n\\t\\t\\tCases\\tFraction\\r\\n0: zero\\t\\t1060\\t62.35%\\r\\n1: one\\t\\t\\t410\\t24.12%\\r\\n2: two\\t\\t\\t147\\t8.65%\\r\\n3: three and more\\t79\\t4.65%\\r\\nMissing\\t\\t\\t4\\t0.24%\\r\\n5. Exertional angina pectoris in the anamnesis (STENOK_AN): Ordinal\\r\\n\\t\\t\\t\\tCases\\tFraction\\r\\n0: never\\t\\t\\t661\\t38.88%\\r\\n1: during the last year\\t146\\t8.59%\\r\\n2: one year ago\\t\\t137\\t8.06%\\r\\n3: two years ago\\t\\t117\\t6.88%\\r\\n4: three years ago\\t\\t76\\t4.47%\\r\\n5: 4-5 years ago\\t\\t125\\t7.35%\\r\\n6: more than 5 years ago\\t332\\t19.53%\\r\\nMissing\\t\\t\\t\\t106\\t6.24%\\r\\n6. Functional class (FC) of angina pectoris in the last year (FK_STENOK): Ordinal\\r\\n\\t\\t\\t\\t\\tCases\\tFraction\\r\\n0: there is no angina pectoris\\t\\t661\\t38.88%\\r\\n1: I FC\\t\\t\\t\\t47\\t2.76%\\r\\n2: II FC\\t\\t\\t\\t854\\t50.24%\\r\\n3: III FC\\t\\t\\t\\t54\\t3.18%\\r\\n4: IV FC\\t\\t\\t\\t11\\t0.65%\\r\\nMissing\\t\\t\\t\\t\\t73\\t4.29%\\r\\n7. Coronary heart disease (CHD) in recent weeks, days before admission to hospital (IBS_POST): Ordinal\\r\\n\\t\\t\\t\\t\\tCases\\tFraction\\r\\n0: there was no Ð¡HD\\t\\t\\t418\\t24.59%\\r\\n1: exertional angina pectoris\\t\\t548\\t32.24%\\r\\n2: unstable angina pectoris\\t\\t683\\t40.18%\\r\\nMissing\\t\\t\\t\\t\\t51\\t3.00%\\r\\n8. Heredity on CHD (IBS_NASL): Nominal\\r\\n\\t\\t\\tCases\\tFraction\\r\\n0: isnâ€™t burdened\\t45\\t2.65%\\r\\n1: burdened\\t\\t27\\t1.59%\\r\\nMissing\\t\\t\\t1628\\t95.76%\\r\\n9. Presence of an essential hypertension (GB): Ordinal\\r\\n\\t\\t\\t\\t\\tCases\\tFraction\\r\\n0: there is no essential hypertension\\t605\\t35.59%\\r\\n1: Stage 1\\t\\t\\t\\t11\\t0.65%\\r\\n2: Stage 2\\t\\t\\t\\t880\\t51.76%\\r\\n3: Stage 3\\t\\t\\t\\t195\\t11.47%\\r\\nMissing\\t\\t\\t\\t\\t9\\t0.53%\\r\\n10. Symptomatic hypertension (SIM_GIPERT): Nominal\\r\\n\\t\\t\\tCases\\tFraction\\r\\n0: no\\t\\t1635\\t96.18%\\r\\n1: yes\\t\\t57\\t3.35%\\r\\nMissing\\t\\t8\\t0.47%\\r\\n11. Duration of arterial hypertension (DLIT_AG): Ordinal\\r\\n\\t\\t\\t\\t\\tCases\\tFraction\\r\\n0: there was no arterial hypertension\\t551\\t32.41%\\r\\n1: one year\\t\\t\\t\\t93\\t5.47%\\r\\n2: two years\\t\\t\\t\\t58\\t3.41%\\r\\n3: three years\\t\\t\\t\\t58\\t3.41%\\r\\n4: four years\\t\\t\\t\\t22\\t1.29%\\r\\n5: five years\\t\\t\\t\\t73\\t4.29%\\r\\n6: 6-10 years\\t\\t\\t\\t165\\t9.71%\\r\\n7: more than 10 years\\t\\t\\t432\\t25.41%\\r\\nMissing\\t\\t\\t\\t\\t248\\t14.59%\\r\\n12. Presence of chronic Heart failure (HF) in the anamnesis (ZSN_A): Partially ordered attribute: there are two lines of severities:\\r\\n0<1<2<4,\\r\\n0<1<3<4.\\r\\nState 4 means simultaneous states 2 and 3\\r\\n\\t\\t\\t\\t\\t\\t\\tCases\\tFraction\\r\\n0: there is no chronic heart failure\\t\\t\\t1468\\t86.35%\\r\\n1: I stage\\t\\t\\t\\t\\t\\t103\\t6.06%\\r\\n2: IIÐ stage (heart failure due to right \\r\\nventricular systolic dysfunction)\\t\\t\\t27\\t1.59%\\r\\n3: IIÐ stage (heart failure due to left \\r\\nventricular systolic dysfunction)\\t\\t\\t29\\t1.71%\\r\\n4: IIB stage (heart failure due to left and\\r\\n right ventricular systolic dysfunction)\\t\\t19\\t1.12%\\r\\nMissing\\t\\t\\t\\t\\t\\t\\t54\\t3.18%\\r\\n13. Observing of arrhythmia in the anamnesis (nr11): Nominal\\r\\n\\t\\tCases\\tFraction\\r\\n0: no\\t\\t1637\\t96.29%\\r\\n1: yes\\t\\t42\\t2.47%\\r\\nMissing\\t\\t21\\t1.24%\\r\\n14. Premature atrial contractions in the anamnesis (nr01): Nominal\\r\\n\\t\\tCases\\tFraction\\r\\n0: no\\t\\t1675\\t98.53%\\r\\n1: yes\\t\\t4\\t0.24%\\r\\nMissing\\t\\t21\\t1.24%\\r\\n15. Premature ventricular contractions in the anamnesis (nr02): Nominal\\r\\n\\t\\tCases\\tFraction\\r\\n0: no\\t\\t1660\\t97.65%\\r\\n1: yes\\t\\t19\\t1.12%\\r\\nMissing\\t\\t21\\t1.24%\\r\\n16. Paroxysms of atrial fibrillation in the anamnesis (nr03): Nominal\\r\\n\\t\\tCases\\tFraction\\r\\n0: no\\t\\t1644\\t96.71%\\r\\n1: yes\\t\\t35\\t2.06%\\r\\nMissing\\t\\t21\\t1.24%\\r\\n17. A persistent form of atrial fibrillation in the anamnesis (nr04): Nominal\\r\\n\\t\\tCases\\tFraction\\r\\n0: no\\t\\t1650\\t97.06%\\r\\n1: yes\\t\\t29\\t1.71%\\r\\nMissing\\t\\t21\\t1.24%\\r\\n18. Ventricular fibrillation in the anamnesis (nr07): Nominal\\r\\n\\t\\tCases\\tFraction\\r\\n0: no\\t\\t1678\\t98.71%\\r\\n1: yes\\t\\t1\\t0.06%\\r\\nMissing\\t\\t21\\t1.24%\\r\\n19. Ventricular paroxysmal tachycardia in the anamnesis (nr08): Nominal\\r\\n\\t\\tCases\\tFraction\\r\\n0: no\\t\\t1675\\t98.53%\\r\\n1: yes\\t\\t4\\t0.24%\\r\\nMissing\\t\\t21\\t1.24%\\r\\n20. First-degree AV block in the anamnesis (np01): Nominal\\r\\n\\t\\tCases\\tFraction\\r\\n0: no\\t\\t1680\\t98.82%\\r\\n1: yes\\t\\t2\\t0.12%\\r\\nMissing\\t\\t18\\t1.06%\\r\\n21. Third-degree AV block in the anamnesis (np04): Nominal\\r\\n\\t\\tCases\\tFraction\\r\\n0: no\\t\\t1679\\t98.76%\\r\\n1: yes\\t\\t3\\t0.18%\\r\\nMissing\\t\\t18\\t1.06%\\r\\n22. LBBB (anterior branch) in the anamnesis (np05): Nominal\\r\\n\\t\\tCases\\tFraction\\r\\n0: no\\t\\t1671\\t98.29%\\r\\n1: yes\\t\\t11\\t0.65%\\r\\nMissing\\t\\t18\\t1.06%\\r\\n23. Incomplete LBBB in the anamnesis (np07): Nominal\\r\\n\\t\\tCases\\tFraction\\r\\n0: no\\t\\t1681\\t98.88%\\r\\n1: yes\\t\\t1\\t0.06%\\r\\nMissing\\t\\t18\\t1.06%\\r\\n24. Complete LBBB in the anamnesis (np08): Nominal\\r\\n\\t\\tCases\\tFraction\\r\\n0: no\\t\\t1676\\t98.59%\\r\\n1: yes\\t\\t6\\t0.35%\\r\\nMissing\\t\\t18\\t1.06%\\r\\n25. Incomplete RBBB in the anamnesis (np09): Nominal\\r\\n\\t\\tCases\\tFraction\\r\\n0: no\\t\\t1680\\t98.82%\\r\\n1: yes\\t\\t2\\t0.12%\\r\\nMissing\\t\\t18\\t1.06%\\r\\n26. Complete RBBB in the anamnesis (np10): Nominal\\r\\n\\t\\tCases\\tFraction\\r\\n0: no\\t\\t1679\\t98.76%\\r\\n1: yes\\t\\t3\\t0.18%\\r\\nMissing\\t\\t18\\t1.06%\\r\\n27. Diabetes mellitus in the anamnesis (endocr_01): Nominal\\r\\n\\t\\tCases\\tFraction\\r\\n0: no\\t\\t1461\\t85.94%\\r\\n1: yes\\t\\t228\\t13.41%\\r\\nMissing\\t\\t11\\t0.65%\\r\\n28. Obesity in the anamnesis (endocr_02): Nominal\\r\\n\\t\\tCases\\tFraction\\r\\n0: no\\t\\t1648\\t96.94%\\r\\n1: yes\\t\\t42\\t2.47%\\r\\nMissing\\t\\t10\\t0.59%\\r\\n29. Thyrotoxicosis in the anamnesis (endocr_03): Nominal\\r\\n\\t\\tCases\\tFraction\\r\\n0: no\\t\\t1677\\t98.65%\\r\\n1: yes\\t\\t13\\t0.76%\\r\\nMissing\\t\\t10\\t0.59%\\t\\r\\n30. Chronic bronchitis in the anamnesis (zab_leg_01): Nominal\\r\\n\\t\\tCases\\tFraction\\r\\n0: no\\t\\t1559\\t91.71%\\r\\n1: yes\\t\\t134\\t7.88%\\r\\nMissing\\t\\t7\\t0.41%\\r\\n31.Obstructive chronic bronchitis in the anamnesis (zab_leg_02): Nominal\\r\\n\\t\\tCases\\tFraction\\r\\n0: no\\t\\t1572\\t92.47%\\r\\n1: yes\\t\\t121\\t7.12%\\r\\nMissing\\t\\t7\\t0.41%\\r\\n32. Bronchial asthma in the anamnesis (zab_leg_03): Nominal\\r\\n\\t\\tCases\\tFraction\\r\\n0: no\\t\\t1656\\t97.41%\\r\\n1: yes\\t\\t37\\t2.18%\\r\\nMissing\\t\\t7\\t0.41%\\r\\n33. Chronic pneumonia in the anamnesis (zab_leg_04): Nominal\\r\\n\\t\\tCases\\tFraction\\r\\n0: no\\t\\t1684\\t99.06%\\r\\n1: yes\\t\\t9\\t0.53%\\r\\nMissing\\t\\t7\\t0.41%\\r\\n34. Pulmonary tuberculosis in the anamnesis (zab_leg_06): Nominal\\r\\n\\t\\tCases\\tFraction\\r\\n0: no\\t\\t1684\\t99.06%\\r\\n1: yes\\t\\t9\\t0.53%\\r\\nMissing\\t\\t7\\t0.41%\\r\\n35. Systolic blood pressure according to Emergency Cardiology Team (S_AD_KBRIG) (mmHg): Real.\\r\\n36. Diastolic blood pressure according to Emergency Cardiology Team (D_AD_KBRIG) (mmHg): Real.\\r\\n37. Systolic blood pressure according to intensive care unit (S_AD_ORIT) (mmHg): Real.\\r\\n38. Diastolic blood pressure according to intensive care unit (D_AD_ORIT) (mmHg): Real.\\r\\n39. Pulmonary edema at the time of admission to intensive care unit (O_L_POST): Nominal\\r\\n\\t\\tCases\\tFraction\\r\\n0: no\\t\\t1578\\t92.82%\\r\\n1: yes\\t\\t110\\t6.47%\\r\\nMissing\\t\\t12\\t0.71%\\r\\n40. Cardiogenic shock at the time of admission to intensive care unit (K_SH_POST): Nominal\\r\\n\\t\\tCases\\tFraction\\r\\n0: no\\t\\t1639\\t96.41%\\r\\n1: yes\\t\\t46\\t2.71%\\r\\nMissing\\t\\t15\\t0.88%\\r\\n41. Paroxysms of atrial fibrillation at the time of admission to intensive care unit, (or at a pre-hospital stage) (MP_TP_POST): Nominal\\r\\n\\t\\tCases\\tFraction\\r\\n0: no\\t\\t1572\\t92.47%\\r\\n1: yes\\t\\t114\\t6.71%\\r\\nMissing\\t\\t14\\t0.82%\\r\\n42. Paroxysms of supraventricular tachycardia at the time of admission to intensive care unit, (or at a pre-hospital stage) (SVT_POST): Nominal\\r\\n\\t\\tCases\\tFraction\\r\\n0: no\\t\\t1680\\t98.82%\\r\\n1: yes\\t\\t8\\t0.47%\\r\\nMissing\\t\\t12\\t0.71%\\r\\n43. Paroxysms of ventricular tachycardia at the time of admission to intensive care unit, (or at a pre-hospital stage) (GT_POST): Nominal\\r\\n\\t\\tCases\\tFraction\\r\\n0: no\\t\\t1680\\t98.82%\\r\\n1: yes\\t\\t8\\t0.47%\\r\\nMissing\\t\\t12\\t0.71%\\r\\n44. Ventricular fibrillation at the time of admission to intensive care unit, (or at a pre-hospital stage) (FIB_G_POST): Nominal\\r\\n\\t\\tCases\\tFraction\\r\\n0: no\\t\\t1673\\t98.41%\\r\\n1: yes\\t\\t15\\t0.88%\\r\\nMissing\\t\\t12\\t0.71%\\r\\n45. Presence of an anterior myocardial infarction (left ventricular) (ECG changes in leads V1: V4 ) (ant_im): Ordinal\\r\\n\\t\\t\\t\\t\\t\\tCases\\tFraction\\r\\n0: there is no infarct in this location\\t660\\t38.82%\\r\\n1: QRS has no changes\\t\\t\\t\\t392\\t23.06%\\r\\n2: QRS is like QR-complex\\t\\t\\t39\\t2.29%\\r\\n3: QRS is like Qr-complex\\t\\t\\t34\\t2.00%\\r\\n4: QRS is like QS-complex\\t\\t\\t492\\t28.94%\\r\\nMissing\\t\\t\\t\\t\\t\\t83\\t4.88%\\r\\n46. Presence of a lateral myocardial infarction (left ventricular) (ECG changes in leads V5: V6 , I, AVL) (lat_im): Ordinal\\r\\n\\t\\t\\t\\t\\tCases\\tFraction\\r\\n0: there is no infarct in this location\\t576\\t33.88%\\r\\n1: QRS has no changes\\t\\t\\t838\\t49.29%\\r\\n2: QRS is like QR-complex\\t\\t97\\t5.71%\\r\\n3: QRS is like Qr-complex\\t\\t72\\t4.24%\\r\\n4: QRS is like QS-complex\\t\\t37\\t2.18%\\r\\nMissing\\t\\t\\t\\t\\t80\\t4.71%\\r\\n47. Presence of an inferior myocardial infarction (left ventricular) (ECG changes in leads III, AVF, II). (inf_im): Ordinal\\r\\n\\t\\t\\t\\t\\t\\tCases\\tFraction\\r\\n0: there is no infarct in this location\\t937\\t55.12%\\r\\n1: QRS has no changes\\t\\t\\t\\t195\\t11.47%\\r\\n2: QRS is like QR-complex\\t\\t\\t191\\t11.24%\\r\\n3: QRS is like Qr-complex\\t\\t\\t121\\t7.12%\\r\\n4: QRS is like QS-complex\\t\\t\\t176\\t10.35%\\r\\nMissing\\t\\t\\t\\t\\t\\t80\\t4.71%\\r\\n48. Presence of a posterior myocardial infarction (left ventricular) (ECG changes in V7: V9, reciprocity changes in leads V1 â€“ V3) (post_im): Ordinal\\r\\n\\t\\t\\t\\t\\t\\tCases\\tFraction\\r\\n0: there is no infarct in this location\\t1370\\t80.59%\\r\\n1: QRS has no changes\\t\\t\\t\\t157\\t9.24%\\r\\n2: QRS is like QR-complex\\t\\t\\t52\\t3.06%\\r\\n3: QRS is like Qr-complex\\t\\t\\t35\\t2.06%\\r\\n4: QRS is like QS-complex\\t\\t\\t14\\t0.82%\\r\\nMissing\\t\\t\\t\\t\\t\\t72\\t4.24%\\r\\n49. Presence of a right ventricular myocardial infarction (IM_PG_P): Nominal\\r\\n\\t\\tCases\\tFraction\\r\\n0: no\\t\\t1649\\t97.00%\\r\\n1: yes\\t\\t50\\t2.94%\\r\\nMissing\\t\\t1\\t0.06%\\r\\n50. ECG rhythm at the time of admission to hospital: sinus (with a heart rate 60-90) (ritm_ecg_p_01): Nominal\\r\\n\\t\\tCases\\tFraction\\r\\n0: no\\t\\t519\\t30.53%\\r\\n1: yes\\t\\t1029\\t60.53%\\r\\nMissing\\t\\t152\\t8.94%\\r\\n51. ECG rhythm at the time of admission to hospital: atrial fibrillation (ritm_ecg_p_02): Nominal\\r\\n\\t\\tCases\\tFraction\\r\\n0: no\\t\\t1453\\t85.47%\\r\\n1: yes\\t\\t95\\t5.59%\\r\\nMissing\\t\\t152\\t8.94%\\r\\n52. ECG rhythm at the time of admission to hospital: atrial (ritm_ecg_p_04): Nominal\\r\\n\\t\\tCases\\tFraction\\r\\n0: no\\t\\t1525\\t89.71%\\r\\n1: yes\\t\\t23\\t1.35%\\r\\nMissing\\t\\t152\\t8.94%\\r\\n53. ECG rhythm at the time of admission to hospital: idioventricular (ritm_ecg_p_06): Nominal\\r\\n\\t\\tCases\\tFraction\\r\\n0: no\\t\\t1547\\t91.00%\\r\\n1: yes\\t\\t1\\t0.06%\\r\\nMissing\\t\\t152\\t8.94%\\r\\n54. ECG rhythm at the time of admission to hospital: sinus with a heart rate above 90 (tachycardia) (ritm_ecg_p_07): Nominal\\r\\n\\t\\tCases\\tFraction\\r\\n0: no\\t\\t1195\\t70.29%\\r\\n1: yes\\t\\t353\\t20.76%\\r\\nMissing\\t\\t152\\t8.94%\\r\\n55. ECG rhythm at the time of admission to hospital: sinus with a heart rate below 60 (bradycardia) (ritm_ecg_p_08): Nominal\\r\\n\\t\\tCases\\tFraction\\r\\n0: no\\t\\t1502\\t88.35%\\r\\n1: yes\\t\\t46\\t2.71%\\r\\nMissing\\t\\t152\\t8.94%\\r\\n56. Premature atrial contractions on ECG at the time of admission to hospital (n_r_ecg_p_01): Nominal\\r\\n\\t\\tCases\\tFraction\\r\\n0: no\\t\\t1527\\t89.82%\\r\\n1: yes\\t\\t58\\t3.41%\\r\\nMissing\\t\\t115\\t6.76%\\r\\n57. Frequent premature atrial contractions on ECG at the time of admission to hospital (n_r_ecg_p_02): Nominal\\r\\n\\t\\tCases\\tFraction\\r\\n0: no\\t\\t1577\\t92.76%\\r\\n1: yes\\t\\t8\\t0.47%\\r\\nMissing\\t\\t115\\t6.76%\\r\\n58.Premature ventricular contractions on ECG at the time of admission to hospital (n_r_ecg_p_03): Nominal\\r\\n\\t\\tCases\\tFraction\\r\\n0: no\\t\\t1381\\t81.24%\\r\\n1: yes\\t\\t204\\t12.00%\\r\\nMissing\\t\\t115\\t6.76%\\r\\n59. Frequent premature ventricular contractions on ECG at the time of admission to hospital (n_r_ecg_p_04): Nominal\\r\\n\\t\\tCases\\tFraction\\r\\n0: no\\t\\t1516\\t89.18%\\r\\n1: yes\\t\\t69\\t4.06%\\r\\nMissing\\t\\t115\\t6.76%\\r\\n60. Paroxysms of atrial fibrillation on ECG at the time of admission to hospital (n_r_ecg_p_05): Nominal\\r\\n\\t\\tCases\\tFraction\\r\\n0: no\\t\\t1515\\t89.12%\\r\\n1: yes\\t\\t70\\t4.12%\\r\\nMissing\\t\\t115\\t6.76%\\r\\n61. Persistent form of atrial fibrillation on ECG at the time of admission to hospital (n_r_ecg_p_06): Nominal\\r\\n\\t\\tCases\\tFraction\\r\\n0: no\\t\\t1553\\t91.35%\\r\\n1: yes\\t\\t32\\t1.88%\\r\\nMissing\\t\\t115\\t6.76%\\r\\n62. Paroxysms of supraventricular tachycardia on ECG at the time of admission to hospital (n_r_ecg_p_08): Nominal \\r\\n\\t\\tCases\\tFraction\\r\\n0: no\\t\\t1581\\t93.00%\\r\\n1: yes\\t\\t4\\t0.24%\\r\\nMissing\\t\\t115\\t6.76%\\r\\n63. Paroxysms of ventricular tachycardia on ECG at the time of admission to hospital (n_r_ecg_p_09): Nominal\\r\\n\\t\\tCases\\tFraction\\r\\n0: no\\t\\t1583\\t93.12%\\r\\n1: yes\\t\\t2\\t0.12%\\r\\nMissing\\t\\t115\\t6.76%\\r\\n64. Ventricular fibrillation on ECG at the time of admission to hospital (n_r_ecg_p_10): Nominal\\r\\n\\t\\tCases\\tFraction\\r\\n0: no\\t\\t1583\\t93.12%\\r\\n1: yes\\t\\t2\\t0.12%\\r\\nMissing\\t\\t115\\t6.76%\\r\\n65. Sinoatrial block on ECG at the time of admission to hospital (n_p_ecg_p_01): Nominal\\r\\n\\t\\tCases\\tFraction\\r\\n0: no\\t\\t1583\\t93.12%\\r\\n1: yes\\t\\t2\\t0.12%\\r\\nMissing\\t\\t115\\t6.76%\\r\\n66. First-degree AV block on ECG at the time of admission to hospital (n_p_ecg_p_03): Nominal\\r\\n\\t\\tCases\\tFraction\\r\\n0: no\\t\\t1553\\t91.35%\\r\\n1: yes\\t\\t32\\t1.88%\\r\\nMissing\\t\\t115\\t6.76%\\r\\n67. Type 1 Second-degree AV block (Mobitz I/Wenckebach) on ECG at the time of admission to hospital (n_p_ecg_p_04): Nominal\\r\\n\\t\\tCases\\tFraction\\r\\n0: no\\t\\t1580\\t92.94%\\r\\n1: yes\\t\\t5\\t0.29%\\r\\nMissing\\t\\t115\\t6.76%\\r\\n68. Type 2 Second-degree AV block (Mobitz II/Hay) on ECG at the time of admission to hospital (n_p_ecg_p_05): Nominal\\r\\n\\t\\tCases\\tFraction\\r\\n0: no\\t\\t1583\\t93.12%\\r\\n1: yes\\t\\t2\\t0.12%\\r\\nMissing\\t\\t115\\t6.76%\\r\\n69. Third-degree AV block on ECG at the time of admission to hospital (n_p_ecg_p_06): Nominal\\r\\n\\t\\tCases\\tFraction\\r\\n0: no\\t\\t1558\\t91.65%\\r\\n1: yes\\t\\t27\\t1.59%\\r\\nMissing\\t\\t115\\t6.76%\\r\\n70. LBBB (anterior branch) on ECG at the time of admission to hospital (n_p_ecg_p_07): Nominal\\r\\n\\t\\tCases\\tFraction\\r\\n0: no\\t\\t1483\\t87.24%\\r\\n1: yes\\t\\t102\\t6.00%\\r\\nMissing\\t\\t115\\t6.76%\\r\\n71. LBBB (posterior branch) on ECG at the time of admission to hospital (n_p_ecg_p_08): Nominal\\r\\n\\t\\tCases\\tFraction\\r\\n0: no\\t\\t1578\\t92.82%\\r\\n1: yes\\t\\t7\\t0.41%\\r\\nMissing\\t\\t115\\t6.76%\\r\\n72. Incomplete LBBB on ECG at the time of admission to hospital (n_p_ecg_p_09): Nominal\\r\\n\\t\\tCases\\tFraction\\r\\n0: no\\t\\t1575\\t92.65%\\r\\n1: yes\\t\\t10\\t0.59%\\r\\nMissing\\t\\t115\\t6.76%\\r\\n73. Complete LBBB on ECG at the time of admission to hospital (n_p_ecg_p_10): Nominal\\r\\n\\t\\tCases\\tFraction\\r\\n0: no\\t\\t1551\\t91.24%\\r\\n1: yes\\t\\t34\\t2.00%\\r\\nMissing\\t\\t115\\t6.76%\\r\\n74. Incomplete RBBB on ECG at the time of admission to hospital (n_p_ecg_p_11): Nominal\\r\\n\\t\\tCases\\tFraction\\r\\n0: no\\t\\t1557\\t91.59%\\r\\n1: yes\\t\\t28\\t1.65%\\r\\nMissing\\t\\t115\\t6.76%\\r\\n75. Complete RBBB on ECG at the time of admission to hospital (n_p_ecg_p_12):\\r\\n\\t\\tCases\\tFraction\\r\\n0: no\\t\\t1507\\t88.65%\\r\\n1: yes\\t\\t78\\t4.59%\\r\\nMissing\\t\\t115\\t6.76%\\r\\n76. Fibrinolytic therapy by Ð¡Ðµliasum 750k IU (fibr_ter_01): Nominal\\r\\n\\t\\tCases\\tFraction\\r\\n0: no\\t\\t1677\\t98.65%\\r\\n1: yes\\t\\t13\\t0.76%\\r\\nMissing\\t\\t10\\t0.59%\\r\\n77. Fibrinolytic therapy by Ð¡Ðµliasum 1m IU (fibr_ter_02): Nominal\\r\\n\\t\\tCases\\tFraction\\r\\n0: no\\t\\t1674\\t98.47%\\r\\n1: yes\\t\\t16\\t0.94%\\r\\nMissing\\t\\t10\\t0.59%\\r\\n78. Fibrinolytic therapy by Ð¡Ðµliasum 3m IU (fibr_ter_03): Nominal\\r\\n\\t\\tCases\\tFraction\\r\\n0: no\\t\\t1622\\t95.41%\\r\\n1: yes\\t\\t68\\t4.00%\\r\\nMissing\\t\\t10\\t0.59%\\r\\n79. Fibrinolytic therapy by Streptase (fibr_ter_05): Nominal\\r\\n\\t\\tCases\\tFraction\\r\\n0: no\\t\\t1686\\t99.18%\\r\\n1: yes\\t\\t4\\t0.24%\\r\\nMissing\\t\\t10\\t0.59%\\r\\n80. Fibrinolytic therapy by Ð¡Ðµliasum 500k IU (fibr_ter_06): Nominal\\r\\n\\t\\tCases\\tFraction\\r\\n0: no\\t\\t1681\\t98.88%\\r\\n1: yes\\t\\t9\\t0.53%\\r\\nMissing\\t\\t10\\t0.59%\\r\\n81. Fibrinolytic therapy by Ð¡Ðµliasum 250k IU (fibr_ter_07): Nominal\\r\\n\\t\\tCases\\tFraction\\r\\n0: no\\t\\t1684\\t99.06%\\r\\n1: yes\\t\\t6\\t0.35%\\r\\nMissing\\t\\t10\\t0.59%\\r\\n82. Fibrinolytic therapy by Streptodecase 1.5m IU (fibr_ter_08): Nominal\\r\\n\\t\\tCases\\tFraction\\r\\n0: no\\t\\t1688\\t99.29%\\r\\n1: yes\\t\\t2\\t0.12%\\r\\nMissing\\t\\t10\\t0.59%\\r\\n83. Hypokalemia ( < 4 mmol/L) (GIPO_K): Nominal\\r\\n\\t\\tCases\\tFraction\\r\\n0: no\\t\\t797\\t46.88%\\r\\n1: yes\\t\\t534\\t31.41%\\r\\nMissing\\t\\t369\\t21.71%\\r\\n84. Serum potassium content (K_BLOOD) (mmol/L): Real.\\r\\n85 Increase of sodium in serum (more than 150 mmol/L) (GIPER_Na): Nominal\\r\\n\\t\\tCases\\tFraction\\r\\n0: no\\t\\t1295\\t76.18%\\r\\n1: yes\\t\\t30\\t1.76%\\r\\nMissing\\t\\t375\\t22.06%\\r\\n86. Serum sodium content (Na_BLOOD) (mmol/L): Real.\\r\\n87. Serum AlAT content (ALT_BLOOD) (IU/L): Real.\\r\\n88. Serum AsAT content (AST_BLOOD) (IU/L): Real.\\r\\n89. Serum CPK content (KFK_BLOOD) (IU/L): Real.\\r\\n90. White blood cell count (billions per liter) (L_BLOOD): Real.\\r\\n91. ESR (Erythrocyte sedimentation rate) (ROE) (Ð¼Ð¼): Real.\\r\\n92. Time elapsed from the beginning of the attack of CHD to the hospital (TIME_B_S): Ordinal\\r\\n\\t\\t\\tCases\\tFraction\\r\\n1: less than 2 hours\\t198\\t11.65%\\r\\n2: 2-4 hours\\t\\t360\\t21.18%\\r\\n3: 4-6 hours\\t\\t175\\t10.29%\\r\\n4: 6-8 hours\\t\\t87\\t5.12%\\r\\n5: 8-12 hours\\t\\t92\\t5.41%\\r\\n6: 12-24 hours\\t\\t151\\t8.88%\\r\\n7: more than 1 days\\t141\\t8.29%\\r\\n8: more than 2 days\\t101\\t5.94%\\r\\n9: more than 3 days\\t269\\t15.82%\\r\\nMissing\\t\\t\\t126\\t7.41%\\r\\n93. Relapse of the pain in the first hours of the hospital period (R_AB_1_n): Ordinal\\r\\n\\t\\t\\tCases\\tFraction\\r\\n0: there is no relapse\\t1282\\t75.41%\\r\\n1: only one\\t\\t298\\t17.53%\\r\\n2: 2 times\\t\\t78\\t4.59%\\r\\n3: 3 or more times \\t26\\t1.53%\\r\\nMissing\\t\\t\\t16\\t0.94%\\r\\n94. Relapse of the pain in the second day of the hospital period (R_AB_2_n): Ordinal\\r\\n\\t\\t\\tCases\\tFraction\\r\\n0: there is no relapse\\t1414\\t83.18%\\r\\n1: only one\\t\\t133\\t7.82%\\r\\n2: 2 times\\t\\t44\\t2.59%\\r\\n3: 3 or more times \\t1\\t0.06%\\r\\nMissing\\t\\t\\t108\\t6.35%\\r\\n95. Relapse of the pain in the third day of the hospital period (R_AB_3_n): Ordinal\\r\\n\\t\\t\\tCases\\tFraction\\r\\n0: there is no relapse\\t1469\\t86.41%\\r\\n1: only one\\t\\t86\\t5.06%\\r\\n2: 2 times\\t\\t15\\t0.88%\\r\\n3: 3 or more times\\t2\\t0.12%\\r\\nMissing\\t\\t\\t1469\\t86.41%\\r\\n96. Use of opioid drugs by the Emergency Cardiology Team (NA_KB): Nominal\\r\\n\\t\\tCases\\tFraction\\r\\n0: no\\t\\t425\\t25.00%\\r\\n1: yes\\t\\t618\\t36.35%\\r\\nMissing\\t\\t657\\t38.65%\\r\\n97. Use of NSAIDs by the Emergency Cardiology Team (NOT_NA_KB): Nominal\\r\\n\\t\\tCases\\tFraction\\r\\n0: no\\t\\t313\\t18.41%\\r\\n1: yes\\t\\t701\\t41.23%\\r\\nMissing\\t\\t375\\t22.06%\\r\\n98.Use of lidocaine by the Emergency Cardiology Team (LID_KB): Nominal\\r\\n\\t\\tCases\\tFraction\\r\\n0: no\\t\\t627\\t36.88%\\r\\n1: yes\\t\\t396\\t23.29%\\r\\nMissing\\t\\t677\\t39.82%\\r\\n99. Use of liquid nitrates in the ICU (NITR_S): Nominal\\r\\n\\t\\tCases\\tFraction\\r\\n0: no\\t\\t1496\\t88.00%\\r\\n1: yes\\t\\t195\\t11.47%\\r\\nMissing\\t\\t9\\t0.53%\\r\\n100. Use of opioid drugs in the ICU in the first hours of the hospital period (NA_R_1_n): Ordinal\\r\\n\\t\\tCases\\tFraction\\r\\n0: no\\t\\t1108\\t65.18%\\r\\n1: once\\t409\\t24.06%\\r\\n2: twice\\t132\\t7.76%\\r\\n3: three times\\t35\\t2.06%\\r\\n4: four times\\t11\\t0.65%\\r\\nMissing\\t\\t5\\t0.29%\\t\\r\\n101. Use of opioid drugs in the ICU in the second day of the hospital period (NA_R_2_n): Ordinal\\r\\n\\t\\tCases\\tFraction\\r\\n0: no\\t\\t1474\\t86.71%\\r\\n1: once\\t87\\t5.12%\\r\\n2: twice\\t30\\t1.76%\\r\\n3: three times\\t1\\t0.06%\\r\\nMissing\\t\\t108\\t6.35%\\r\\n102. Use of opioid drugs in the ICU in the third day of the hospital period (NA_R_3_n): Ordinal\\r\\n\\t\\tCases\\tFraction\\r\\n0: no\\t\\t1493\\t87.82%\\r\\n1: once\\t60\\t3.53%\\r\\n2: twice\\t16\\t0.94%\\r\\nMissing\\t\\t131\\t7.71%\\r\\n103. Use of NSAIDs in the ICU in the first hours of the hospital period (NOT_NA_1_n): Ordinal\\r\\n\\t\\t\\tCases\\tFraction\\r\\n0: no\\t\\t\\t1237\\t72.76%\\r\\n1: once\\t\\t376\\t22.12%\\r\\n2: twice\\t\\t53\\t3.12%\\r\\n3: three times\\t\\t17\\t1.00%\\r\\n4: four or more times\\t7\\t0.41%\\r\\nMissing\\t\\t\\t10\\t0.59%\\r\\n104. Use of NSAIDs in the ICU in the second day of the hospital period (NOT_NA_2_n): Ordinal\\r\\n\\t\\tCases\\tFraction\\r\\n0: no\\t\\t1454\\t85.53%\\r\\n1: once\\t95\\t5.59%\\r\\n2: twice\\t38\\t2.24%\\r\\n3: three times\\t3\\t0.18%\\r\\nMissing\\t\\t110\\t6.47%\\r\\n105. Use of NSAIDs in the ICU in the third day of the hospital period (NOT_NA_3_n): Ordinal\\r\\n\\t\\tCases\\tFraction\\r\\n0: no\\t\\t1474\\t86.71%\\r\\n1: once\\t57\\t3.35%\\r\\n2: twice\\t38\\t2.24%\\r\\nMissing\\t\\t131\\t7.71%\\r\\n106. Use of lidocaine in the ICU (LID_S_n): Nominal\\r\\n\\t\\tCases\\tFraction\\r\\n0: no\\t\\t1211\\t71.24%\\r\\n1: yes\\t\\t479\\t28.18%\\r\\nMissing\\t\\t10\\t0.59%\\r\\n107. Use of beta-blockers in the ICU (B_BLOK_S_n): Nominal\\r\\n\\t\\tCases\\tFraction\\r\\n0: no\\t\\t1474\\t86.71%\\r\\n1: yes\\t\\t215\\t12.65%\\r\\nMissing\\t\\t11\\t0.65%\\r\\n108. Use of calcium channel blockers in the ICU (ANT_CA_S_n): Nominal\\r\\n\\t\\tCases\\tFraction\\r\\n0: no\\t\\t562\\t33.06%\\r\\n1: yes\\t\\t1125\\t66.18%\\r\\nMissing\\t\\t13\\t0.76%\\r\\n109. Use of Ð° anticoagulants (heparin) in the ICU (GEPAR_S_n): Nominal\\r\\n\\t\\tCases\\tFraction\\r\\n0: no\\t\\t480\\t28.24%\\r\\n1: yes\\t\\t1203\\t70.76%\\r\\nMissing\\t\\t17\\t1.00%\\r\\n110. Use of acetylsalicylic acid in the ICU (ASP_S_n): Nominal\\r\\n\\t\\tCases\\tFraction\\r\\n0: no\\t\\t431\\t25.35%\\r\\n1: yes\\t\\t1252\\t73.65%\\r\\nMissing\\t\\t17\\t1.00%\\r\\n111. Use of Ticlid in the ICU (TIKL_S_n): Nominal\\r\\n\\t\\tCases\\tFraction\\r\\n0: no\\t\\t1654\\t97.29%\\r\\n1: yes\\t\\t30\\t1.76%\\r\\nMissing\\t\\t16\\t0.94%\\r\\n112. Use of Trental in the ICU (TRENT_S_n): Nominal\\r\\n\\t\\tCases\\tFraction\\r\\n0: no\\t\\t1343\\t79.00%\\r\\n1: yes\\t\\t341\\t20.06%\\r\\nMissing\\t\\t16\\t0.94%\\r\\n\\r\\nComplications and outcomes of myocardial infarction: \\r\\n\\r\\n113. Atrial fibrillation (FIBR_PREDS): Nominal\\r\\n\\t\\tCases\\tFraction\\r\\n0: no\\t\\t1530\\t90.00%\\r\\n1: yes \\t170\\t10.00%\\r\\nMissing\\t\\t0\\t0%\\r\\n114. Supraventricular tachycardia (PREDS_TAH): Nominal\\r\\n\\t\\tCases\\tFraction\\r\\n0: no\\t\\t1680\\t98.82%\\r\\n1: yes \\t20\\t1.18%\\r\\nMissing\\t\\t0\\t0%\\r\\n115. Ventricular tachycardia (JELUD_TAH): Nominal\\r\\n\\t\\tCases\\tFraction\\r\\n0: no\\t\\t1658\\t97.53%\\r\\n1: yes \\t42\\t2.47%\\r\\nMissing\\t\\t0\\t0%\\r\\n116. Ventricular fibrillation (FIBR_JELUD): Nominal\\r\\n\\t\\tCases\\tFraction\\r\\n0: no\\t\\t1629\\t95.82%\\r\\n1: yes \\t71\\t4.18%\\r\\nMissing\\t\\t0\\t0%\\r\\n117. Third-degree AV block (A_V_BLOK): Nominal\\r\\n\\t\\tCases\\tFraction\\r\\n0: no\\t\\t1643\\t96.65%\\r\\n1: yes \\t57\\t3.35%\\r\\nMissing\\t\\t0\\t0%\\r\\n118. Pulmonary edema (OTEK_LANC): Nominal\\r\\n\\t\\tCases\\tFraction\\r\\n0: no\\t\\t1541\\t90.65%\\r\\n1: yes \\t159\\t9.35%\\r\\nMissing\\t\\t0\\t0%\\r\\n119. Myocardial rupture (RAZRIV): Nominal\\r\\n\\t\\tCases\\tFraction\\r\\n0: no\\t\\t1646\\t96.82%\\r\\n1: yes \\t54\\t3.18%\\r\\nMissing\\t\\t0\\t0%\\r\\n120. Dressler syndrome (DRESSLER): Nominal\\r\\n\\t\\tCases\\tFraction\\r\\n0: no\\t\\t1625\\t95.59%\\r\\n1: yes \\t75\\t4.41%\\r\\nMissing\\t\\t0\\t0%\\r\\n121. Chronic heart failure (ZSN): Nominal\\r\\n\\t\\tCases\\tFraction\\r\\n0: no\\t\\t1306\\t76.82%\\r\\n1: yes \\t394\\t23.18%\\r\\nMissing\\t\\t0\\t0%\\r\\n122. Relapse of the myocardial infarction (REC_IM): Nominal\\r\\n\\t\\tCases\\tFraction\\r\\n0: no\\t\\t1541\\t90.65%\\r\\n1: yes \\t159\\t9.35%\\r\\nMissing\\t\\t0\\t0%\\r\\n123. Post-infarction angina (P_IM_STEN): Nominal\\r\\n\\t\\tCases\\tFraction\\r\\n0: no\\t\\t1552\\t91.29%\\r\\n1: yes \\t148\\t8.71%\\r\\nMissing\\t\\t0\\t0%\\r\\n124. Lethal outcome (cause) (LET_IS): Structure\\r\\n\\t\\t\\t\\t\\t\\tCases\\tFraction\\r\\n0: unknown (alive)\\t\\t\\t\\t1429\\t84.06%\\r\\n1: cardiogenic shock\\t\\t\\t\\t110\\t6.47%\\r\\n2: pulmonary edema\\t\\t\\t\\t18\\t1.06%\\r\\n3: myocardial rupture\\t\\t\\t\\t54\\t3.18%\\r\\n4: progress of congestive heart failure\\t23\\t1.35%\\r\\n5: thromboembolism\\t\\t\\t\\t12\\t0.71%\\r\\n6: asystole\\t\\t\\t\\t\\t27\\t1.59%\\r\\n7: ventricular fibrillation\\t\\t\\t27\\t1.59%\\r\\nMissing\\t\\t\\t\\t\\t\\t0\\t0%\\r\\n\\r\\nSummary statistics for real attributes\\r\\nAttribute\\tMin\\tMax\\tMean\\tSTD\\tMissing cases\\tMissing fraction\\r\\nAge\\t\\t26\\t92\\t61.86\\t11.26\\t8\\t\\t0.47%\\r\\nS_AD_KBRIG\\t0\\t260\\t136.91\\t34.97\\t1076\\t\\t63.29%\\r\\nD_AD_KBRIG\\t0\\t190\\t81.39\\t19.73\\t1076\\t\\t63.29%\\r\\nS_AD_ORIT\\t0\\t260\\t134.59\\t31.34\\t267\\t\\t15.71%\\r\\nD_AD_ORIT\\t0\\t190\\t82.75\\t18.31\\t267\\t\\t15.71%\\r\\nK_BLOOD\\t\\t2.3\\t8.2\\t4.19\\t0.75\\t371\\t\\t21.82%\\r\\nNa_BLOOD\\t117\\t169\\t136.55\\t6.51\\t375\\t\\t22.06%\\r\\nALT_BLOOD\\t0.03\\t3\\t0.48\\t0.39\\t284\\t\\t16.71%\\r\\nAST_BLOOD\\t0.04\\t2.15\\t0.26\\t0.2\\t285\\t\\t16.67%\\r\\nKFK_BLOOD\\t1.2\\t3.6\\t2\\t0.95\\t1696\\t\\t99.76%\\r\\nL_BLOOD\\t\\t2\\t27.9\\t8.78\\t3.40\\t125\\t\\t7.35%\\r\\nROE\\t\\t1\\t140\\t13.44\\t11.29\\t203\\t\\t19.94%', 'citation': None}}\n",
      "          name     role         type demographic  \\\n",
      "0           ID       ID      Integer        None   \n",
      "1          AGE  Feature      Integer         Age   \n",
      "2          SEX  Feature       Binary         Sex   \n",
      "3     INF_ANAM  Feature  Categorical        None   \n",
      "4    STENOK_AN  Feature  Categorical        None   \n",
      "..         ...      ...          ...         ...   \n",
      "119   DRESSLER   Target       Binary        None   \n",
      "120        ZSN   Target       Binary        None   \n",
      "121     REC_IM   Target       Binary        None   \n",
      "122  P_IM_STEN   Target       Binary        None   \n",
      "123     LET_IS   Target  Categorical        None   \n",
      "\n",
      "                                           description units missing_values  \n",
      "0    Record ID (ID): Unique identifier. Cannot be r...  None             no  \n",
      "1                                      Age of patient.  None             no  \n",
      "2                                   0: female, 1: male  None             no  \n",
      "3    Quantity of myocardial infarctions in the anam...  None            yes  \n",
      "4    Exertional angina pectoris in the anamnesis. \\...  None            yes  \n",
      "..                                                 ...   ...            ...  \n",
      "119                                  Dressler syndrome  None             no  \n",
      "120                              Chronic heart failure  None             no  \n",
      "121               Relapse of the myocardial infarction  None             no  \n",
      "122                             Post-infarction angina  None             no  \n",
      "123  Lethal outcome (cause)\\n\\n0: unknown (alive)\\n...  None             no  \n",
      "\n",
      "[124 rows x 7 columns]\n"
     ]
    }
   ],
   "source": [
    "import numpy as np\n",
    "import pandas as pd\n",
    "from ucimlrepo import fetch_ucirepo \n",
    "  \n",
    "# fetch dataset \n",
    "myocardial_infarction_complications = fetch_ucirepo(id=579) \n",
    "  \n",
    "# data (as pandas dataframes) \n",
    "X = myocardial_infarction_complications.data.features \n",
    "y = myocardial_infarction_complications.data.targets \n",
    "  \n",
    "# metadata \n",
    "print(myocardial_infarction_complications.metadata) \n",
    "  \n",
    "# variable information \n",
    "print(myocardial_infarction_complications.variables) "
   ]
  },
  {
   "cell_type": "code",
   "execution_count": 4,
   "metadata": {},
   "outputs": [
    {
     "data": {
      "text/html": [
       "<div>\n",
       "<style scoped>\n",
       "    .dataframe tbody tr th:only-of-type {\n",
       "        vertical-align: middle;\n",
       "    }\n",
       "\n",
       "    .dataframe tbody tr th {\n",
       "        vertical-align: top;\n",
       "    }\n",
       "\n",
       "    .dataframe thead th {\n",
       "        text-align: right;\n",
       "    }\n",
       "</style>\n",
       "<table border=\"1\" class=\"dataframe\">\n",
       "  <thead>\n",
       "    <tr style=\"text-align: right;\">\n",
       "      <th></th>\n",
       "      <th>AGE</th>\n",
       "      <th>SEX</th>\n",
       "      <th>INF_ANAM</th>\n",
       "      <th>STENOK_AN</th>\n",
       "      <th>FK_STENOK</th>\n",
       "      <th>IBS_POST</th>\n",
       "      <th>IBS_NASL</th>\n",
       "      <th>GB</th>\n",
       "      <th>SIM_GIPERT</th>\n",
       "      <th>DLIT_AG</th>\n",
       "      <th>...</th>\n",
       "      <th>NOT_NA_1_n</th>\n",
       "      <th>NOT_NA_2_n</th>\n",
       "      <th>NOT_NA_3_n</th>\n",
       "      <th>LID_S_n</th>\n",
       "      <th>B_BLOK_S_n</th>\n",
       "      <th>ANT_CA_S_n</th>\n",
       "      <th>GEPAR_S_n</th>\n",
       "      <th>ASP_S_n</th>\n",
       "      <th>TIKL_S_n</th>\n",
       "      <th>TRENT_S_n</th>\n",
       "    </tr>\n",
       "  </thead>\n",
       "  <tbody>\n",
       "    <tr>\n",
       "      <th>0</th>\n",
       "      <td>77.0</td>\n",
       "      <td>1</td>\n",
       "      <td>2.0</td>\n",
       "      <td>1.0</td>\n",
       "      <td>1.0</td>\n",
       "      <td>2.0</td>\n",
       "      <td>NaN</td>\n",
       "      <td>3.0</td>\n",
       "      <td>0.0</td>\n",
       "      <td>7.0</td>\n",
       "      <td>...</td>\n",
       "      <td>0.0</td>\n",
       "      <td>0.0</td>\n",
       "      <td>0.0</td>\n",
       "      <td>1.0</td>\n",
       "      <td>0.0</td>\n",
       "      <td>0.0</td>\n",
       "      <td>1.0</td>\n",
       "      <td>1.0</td>\n",
       "      <td>0.0</td>\n",
       "      <td>0.0</td>\n",
       "    </tr>\n",
       "    <tr>\n",
       "      <th>1</th>\n",
       "      <td>55.0</td>\n",
       "      <td>1</td>\n",
       "      <td>1.0</td>\n",
       "      <td>0.0</td>\n",
       "      <td>0.0</td>\n",
       "      <td>0.0</td>\n",
       "      <td>0.0</td>\n",
       "      <td>0.0</td>\n",
       "      <td>0.0</td>\n",
       "      <td>0.0</td>\n",
       "      <td>...</td>\n",
       "      <td>1.0</td>\n",
       "      <td>0.0</td>\n",
       "      <td>0.0</td>\n",
       "      <td>1.0</td>\n",
       "      <td>0.0</td>\n",
       "      <td>1.0</td>\n",
       "      <td>1.0</td>\n",
       "      <td>1.0</td>\n",
       "      <td>0.0</td>\n",
       "      <td>1.0</td>\n",
       "    </tr>\n",
       "    <tr>\n",
       "      <th>2</th>\n",
       "      <td>52.0</td>\n",
       "      <td>1</td>\n",
       "      <td>0.0</td>\n",
       "      <td>0.0</td>\n",
       "      <td>0.0</td>\n",
       "      <td>2.0</td>\n",
       "      <td>NaN</td>\n",
       "      <td>2.0</td>\n",
       "      <td>0.0</td>\n",
       "      <td>2.0</td>\n",
       "      <td>...</td>\n",
       "      <td>3.0</td>\n",
       "      <td>2.0</td>\n",
       "      <td>2.0</td>\n",
       "      <td>1.0</td>\n",
       "      <td>1.0</td>\n",
       "      <td>0.0</td>\n",
       "      <td>1.0</td>\n",
       "      <td>1.0</td>\n",
       "      <td>0.0</td>\n",
       "      <td>0.0</td>\n",
       "    </tr>\n",
       "    <tr>\n",
       "      <th>3</th>\n",
       "      <td>68.0</td>\n",
       "      <td>0</td>\n",
       "      <td>0.0</td>\n",
       "      <td>0.0</td>\n",
       "      <td>0.0</td>\n",
       "      <td>2.0</td>\n",
       "      <td>NaN</td>\n",
       "      <td>2.0</td>\n",
       "      <td>0.0</td>\n",
       "      <td>3.0</td>\n",
       "      <td>...</td>\n",
       "      <td>0.0</td>\n",
       "      <td>0.0</td>\n",
       "      <td>0.0</td>\n",
       "      <td>0.0</td>\n",
       "      <td>0.0</td>\n",
       "      <td>1.0</td>\n",
       "      <td>1.0</td>\n",
       "      <td>1.0</td>\n",
       "      <td>0.0</td>\n",
       "      <td>0.0</td>\n",
       "    </tr>\n",
       "    <tr>\n",
       "      <th>4</th>\n",
       "      <td>60.0</td>\n",
       "      <td>1</td>\n",
       "      <td>0.0</td>\n",
       "      <td>0.0</td>\n",
       "      <td>0.0</td>\n",
       "      <td>2.0</td>\n",
       "      <td>NaN</td>\n",
       "      <td>3.0</td>\n",
       "      <td>0.0</td>\n",
       "      <td>7.0</td>\n",
       "      <td>...</td>\n",
       "      <td>0.0</td>\n",
       "      <td>0.0</td>\n",
       "      <td>0.0</td>\n",
       "      <td>0.0</td>\n",
       "      <td>0.0</td>\n",
       "      <td>1.0</td>\n",
       "      <td>0.0</td>\n",
       "      <td>1.0</td>\n",
       "      <td>0.0</td>\n",
       "      <td>1.0</td>\n",
       "    </tr>\n",
       "  </tbody>\n",
       "</table>\n",
       "<p>5 rows × 111 columns</p>\n",
       "</div>"
      ],
      "text/plain": [
       "    AGE  SEX  INF_ANAM  STENOK_AN  FK_STENOK  IBS_POST  IBS_NASL   GB  \\\n",
       "0  77.0    1       2.0        1.0        1.0       2.0       NaN  3.0   \n",
       "1  55.0    1       1.0        0.0        0.0       0.0       0.0  0.0   \n",
       "2  52.0    1       0.0        0.0        0.0       2.0       NaN  2.0   \n",
       "3  68.0    0       0.0        0.0        0.0       2.0       NaN  2.0   \n",
       "4  60.0    1       0.0        0.0        0.0       2.0       NaN  3.0   \n",
       "\n",
       "   SIM_GIPERT  DLIT_AG  ...  NOT_NA_1_n  NOT_NA_2_n  NOT_NA_3_n  LID_S_n  \\\n",
       "0         0.0      7.0  ...         0.0         0.0         0.0      1.0   \n",
       "1         0.0      0.0  ...         1.0         0.0         0.0      1.0   \n",
       "2         0.0      2.0  ...         3.0         2.0         2.0      1.0   \n",
       "3         0.0      3.0  ...         0.0         0.0         0.0      0.0   \n",
       "4         0.0      7.0  ...         0.0         0.0         0.0      0.0   \n",
       "\n",
       "   B_BLOK_S_n  ANT_CA_S_n  GEPAR_S_n  ASP_S_n  TIKL_S_n  TRENT_S_n  \n",
       "0         0.0         0.0        1.0      1.0       0.0        0.0  \n",
       "1         0.0         1.0        1.0      1.0       0.0        1.0  \n",
       "2         1.0         0.0        1.0      1.0       0.0        0.0  \n",
       "3         0.0         1.0        1.0      1.0       0.0        0.0  \n",
       "4         0.0         1.0        0.0      1.0       0.0        1.0  \n",
       "\n",
       "[5 rows x 111 columns]"
      ]
     },
     "execution_count": 4,
     "metadata": {},
     "output_type": "execute_result"
    }
   ],
   "source": [
    "X.head()"
   ]
  },
  {
   "cell_type": "code",
   "execution_count": 6,
   "metadata": {},
   "outputs": [
    {
     "data": {
      "text/html": [
       "<div>\n",
       "<style scoped>\n",
       "    .dataframe tbody tr th:only-of-type {\n",
       "        vertical-align: middle;\n",
       "    }\n",
       "\n",
       "    .dataframe tbody tr th {\n",
       "        vertical-align: top;\n",
       "    }\n",
       "\n",
       "    .dataframe thead th {\n",
       "        text-align: right;\n",
       "    }\n",
       "</style>\n",
       "<table border=\"1\" class=\"dataframe\">\n",
       "  <thead>\n",
       "    <tr style=\"text-align: right;\">\n",
       "      <th></th>\n",
       "      <th>FIBR_PREDS</th>\n",
       "      <th>PREDS_TAH</th>\n",
       "      <th>JELUD_TAH</th>\n",
       "      <th>FIBR_JELUD</th>\n",
       "      <th>A_V_BLOK</th>\n",
       "      <th>OTEK_LANC</th>\n",
       "      <th>RAZRIV</th>\n",
       "      <th>DRESSLER</th>\n",
       "      <th>ZSN</th>\n",
       "      <th>REC_IM</th>\n",
       "      <th>P_IM_STEN</th>\n",
       "      <th>LET_IS</th>\n",
       "    </tr>\n",
       "  </thead>\n",
       "  <tbody>\n",
       "    <tr>\n",
       "      <th>0</th>\n",
       "      <td>0</td>\n",
       "      <td>0</td>\n",
       "      <td>0</td>\n",
       "      <td>0</td>\n",
       "      <td>0</td>\n",
       "      <td>0</td>\n",
       "      <td>0</td>\n",
       "      <td>0</td>\n",
       "      <td>0</td>\n",
       "      <td>0</td>\n",
       "      <td>0</td>\n",
       "      <td>0</td>\n",
       "    </tr>\n",
       "    <tr>\n",
       "      <th>1</th>\n",
       "      <td>0</td>\n",
       "      <td>0</td>\n",
       "      <td>0</td>\n",
       "      <td>0</td>\n",
       "      <td>0</td>\n",
       "      <td>0</td>\n",
       "      <td>0</td>\n",
       "      <td>0</td>\n",
       "      <td>0</td>\n",
       "      <td>0</td>\n",
       "      <td>0</td>\n",
       "      <td>0</td>\n",
       "    </tr>\n",
       "    <tr>\n",
       "      <th>2</th>\n",
       "      <td>0</td>\n",
       "      <td>0</td>\n",
       "      <td>0</td>\n",
       "      <td>0</td>\n",
       "      <td>0</td>\n",
       "      <td>0</td>\n",
       "      <td>0</td>\n",
       "      <td>0</td>\n",
       "      <td>0</td>\n",
       "      <td>0</td>\n",
       "      <td>0</td>\n",
       "      <td>0</td>\n",
       "    </tr>\n",
       "    <tr>\n",
       "      <th>3</th>\n",
       "      <td>0</td>\n",
       "      <td>0</td>\n",
       "      <td>0</td>\n",
       "      <td>0</td>\n",
       "      <td>0</td>\n",
       "      <td>0</td>\n",
       "      <td>0</td>\n",
       "      <td>0</td>\n",
       "      <td>1</td>\n",
       "      <td>0</td>\n",
       "      <td>0</td>\n",
       "      <td>0</td>\n",
       "    </tr>\n",
       "    <tr>\n",
       "      <th>4</th>\n",
       "      <td>0</td>\n",
       "      <td>0</td>\n",
       "      <td>0</td>\n",
       "      <td>0</td>\n",
       "      <td>0</td>\n",
       "      <td>0</td>\n",
       "      <td>0</td>\n",
       "      <td>0</td>\n",
       "      <td>0</td>\n",
       "      <td>0</td>\n",
       "      <td>0</td>\n",
       "      <td>0</td>\n",
       "    </tr>\n",
       "  </tbody>\n",
       "</table>\n",
       "</div>"
      ],
      "text/plain": [
       "   FIBR_PREDS  PREDS_TAH  JELUD_TAH  FIBR_JELUD  A_V_BLOK  OTEK_LANC  RAZRIV  \\\n",
       "0           0          0          0           0         0          0       0   \n",
       "1           0          0          0           0         0          0       0   \n",
       "2           0          0          0           0         0          0       0   \n",
       "3           0          0          0           0         0          0       0   \n",
       "4           0          0          0           0         0          0       0   \n",
       "\n",
       "   DRESSLER  ZSN  REC_IM  P_IM_STEN  LET_IS  \n",
       "0         0    0       0          0       0  \n",
       "1         0    0       0          0       0  \n",
       "2         0    0       0          0       0  \n",
       "3         0    1       0          0       0  \n",
       "4         0    0       0          0       0  "
      ]
     },
     "execution_count": 6,
     "metadata": {},
     "output_type": "execute_result"
    }
   ],
   "source": [
    "y.head()"
   ]
  },
  {
   "cell_type": "code",
   "execution_count": 12,
   "metadata": {},
   "outputs": [
    {
     "data": {
      "text/plain": [
       "SEX           0.000000\n",
       "IM_PG_P       0.000588\n",
       "INF_ANAM      0.002353\n",
       "NA_R_1_n      0.002941\n",
       "zab_leg_06    0.004118\n",
       "                ...   \n",
       "NOT_NA_KB     0.403529\n",
       "S_AD_KBRIG    0.632941\n",
       "D_AD_KBRIG    0.632941\n",
       "IBS_NASL      0.957647\n",
       "KFK_BLOOD     0.997647\n",
       "Length: 111, dtype: float64"
      ]
     },
     "execution_count": 12,
     "metadata": {},
     "output_type": "execute_result"
    }
   ],
   "source": [
    "X.isna().mean().sort_values()"
   ]
  },
  {
   "cell_type": "code",
   "execution_count": 20,
   "metadata": {},
   "outputs": [
    {
     "data": {
      "text/plain": [
       "LET_IS\n",
       "0    0.840588\n",
       "1    0.064706\n",
       "3    0.031765\n",
       "7    0.015882\n",
       "6    0.015882\n",
       "4    0.013529\n",
       "2    0.010588\n",
       "5    0.007059\n",
       "Name: proportion, dtype: float64"
      ]
     },
     "execution_count": 20,
     "metadata": {},
     "output_type": "execute_result"
    }
   ],
   "source": [
    "y['LET_IS'].value_counts(normalize=True)"
   ]
  },
  {
   "cell_type": "code",
   "execution_count": 21,
   "metadata": {},
   "outputs": [
    {
     "data": {
      "text/html": [
       "<div>\n",
       "<style scoped>\n",
       "    .dataframe tbody tr th:only-of-type {\n",
       "        vertical-align: middle;\n",
       "    }\n",
       "\n",
       "    .dataframe tbody tr th {\n",
       "        vertical-align: top;\n",
       "    }\n",
       "\n",
       "    .dataframe thead th {\n",
       "        text-align: right;\n",
       "    }\n",
       "</style>\n",
       "<table border=\"1\" class=\"dataframe\">\n",
       "  <thead>\n",
       "    <tr style=\"text-align: right;\">\n",
       "      <th></th>\n",
       "      <th>AGE</th>\n",
       "      <th>SEX</th>\n",
       "      <th>INF_ANAM</th>\n",
       "      <th>STENOK_AN</th>\n",
       "      <th>FK_STENOK</th>\n",
       "      <th>IBS_POST</th>\n",
       "      <th>IBS_NASL</th>\n",
       "      <th>GB</th>\n",
       "      <th>SIM_GIPERT</th>\n",
       "      <th>DLIT_AG</th>\n",
       "      <th>ZSN_A</th>\n",
       "      <th>nr_11</th>\n",
       "      <th>nr_01</th>\n",
       "      <th>nr_02</th>\n",
       "      <th>nr_03</th>\n",
       "      <th>nr_04</th>\n",
       "      <th>nr_07</th>\n",
       "      <th>nr_08</th>\n",
       "      <th>np_01</th>\n",
       "      <th>np_04</th>\n",
       "      <th>np_05</th>\n",
       "      <th>np_07</th>\n",
       "      <th>np_08</th>\n",
       "      <th>np_09</th>\n",
       "      <th>np_10</th>\n",
       "      <th>endocr_01</th>\n",
       "      <th>endocr_02</th>\n",
       "      <th>endocr_03</th>\n",
       "      <th>zab_leg_01</th>\n",
       "      <th>zab_leg_02</th>\n",
       "      <th>zab_leg_03</th>\n",
       "      <th>zab_leg_04</th>\n",
       "      <th>zab_leg_06</th>\n",
       "      <th>S_AD_KBRIG</th>\n",
       "      <th>D_AD_KBRIG</th>\n",
       "      <th>S_AD_ORIT</th>\n",
       "      <th>D_AD_ORIT</th>\n",
       "      <th>O_L_POST</th>\n",
       "      <th>K_SH_POST</th>\n",
       "      <th>MP_TP_POST</th>\n",
       "      <th>SVT_POST</th>\n",
       "      <th>GT_POST</th>\n",
       "      <th>FIB_G_POST</th>\n",
       "      <th>ant_im</th>\n",
       "      <th>lat_im</th>\n",
       "      <th>inf_im</th>\n",
       "      <th>post_im</th>\n",
       "      <th>IM_PG_P</th>\n",
       "      <th>ritm_ecg_p_01</th>\n",
       "      <th>ritm_ecg_p_02</th>\n",
       "      <th>ritm_ecg_p_04</th>\n",
       "      <th>ritm_ecg_p_06</th>\n",
       "      <th>ritm_ecg_p_07</th>\n",
       "      <th>ritm_ecg_p_08</th>\n",
       "      <th>n_r_ecg_p_01</th>\n",
       "      <th>n_r_ecg_p_02</th>\n",
       "      <th>n_r_ecg_p_03</th>\n",
       "      <th>n_r_ecg_p_04</th>\n",
       "      <th>n_r_ecg_p_05</th>\n",
       "      <th>n_r_ecg_p_06</th>\n",
       "      <th>n_r_ecg_p_08</th>\n",
       "      <th>n_r_ecg_p_09</th>\n",
       "      <th>n_r_ecg_p_10</th>\n",
       "      <th>n_p_ecg_p_01</th>\n",
       "      <th>n_p_ecg_p_03</th>\n",
       "      <th>n_p_ecg_p_04</th>\n",
       "      <th>n_p_ecg_p_05</th>\n",
       "      <th>n_p_ecg_p_06</th>\n",
       "      <th>n_p_ecg_p_07</th>\n",
       "      <th>n_p_ecg_p_08</th>\n",
       "      <th>n_p_ecg_p_09</th>\n",
       "      <th>n_p_ecg_p_10</th>\n",
       "      <th>n_p_ecg_p_11</th>\n",
       "      <th>n_p_ecg_p_12</th>\n",
       "      <th>fibr_ter_01</th>\n",
       "      <th>fibr_ter_02</th>\n",
       "      <th>fibr_ter_03</th>\n",
       "      <th>fibr_ter_05</th>\n",
       "      <th>fibr_ter_06</th>\n",
       "      <th>fibr_ter_07</th>\n",
       "      <th>fibr_ter_08</th>\n",
       "      <th>GIPO_K</th>\n",
       "      <th>K_BLOOD</th>\n",
       "      <th>GIPER_NA</th>\n",
       "      <th>NA_BLOOD</th>\n",
       "      <th>ALT_BLOOD</th>\n",
       "      <th>AST_BLOOD</th>\n",
       "      <th>KFK_BLOOD</th>\n",
       "      <th>L_BLOOD</th>\n",
       "      <th>ROE</th>\n",
       "      <th>TIME_B_S</th>\n",
       "      <th>R_AB_1_n</th>\n",
       "      <th>R_AB_2_n</th>\n",
       "      <th>R_AB_3_n</th>\n",
       "      <th>NA_KB</th>\n",
       "      <th>NOT_NA_KB</th>\n",
       "      <th>LID_KB</th>\n",
       "      <th>NITR_S</th>\n",
       "      <th>NA_R_1_n</th>\n",
       "      <th>NA_R_2_n</th>\n",
       "      <th>NA_R_3_n</th>\n",
       "      <th>NOT_NA_1_n</th>\n",
       "      <th>NOT_NA_2_n</th>\n",
       "      <th>NOT_NA_3_n</th>\n",
       "      <th>LID_S_n</th>\n",
       "      <th>B_BLOK_S_n</th>\n",
       "      <th>ANT_CA_S_n</th>\n",
       "      <th>GEPAR_S_n</th>\n",
       "      <th>ASP_S_n</th>\n",
       "      <th>TIKL_S_n</th>\n",
       "      <th>TRENT_S_n</th>\n",
       "    </tr>\n",
       "  </thead>\n",
       "  <tbody>\n",
       "    <tr>\n",
       "      <th>0</th>\n",
       "      <td>77.0</td>\n",
       "      <td>1</td>\n",
       "      <td>2.0</td>\n",
       "      <td>1.0</td>\n",
       "      <td>1.0</td>\n",
       "      <td>2.0</td>\n",
       "      <td>NaN</td>\n",
       "      <td>3.0</td>\n",
       "      <td>0.0</td>\n",
       "      <td>7.0</td>\n",
       "      <td>0.0</td>\n",
       "      <td>0.0</td>\n",
       "      <td>0.0</td>\n",
       "      <td>0.0</td>\n",
       "      <td>0.0</td>\n",
       "      <td>0.0</td>\n",
       "      <td>0.0</td>\n",
       "      <td>0.0</td>\n",
       "      <td>0.0</td>\n",
       "      <td>0.0</td>\n",
       "      <td>0.0</td>\n",
       "      <td>0.0</td>\n",
       "      <td>0.0</td>\n",
       "      <td>0.0</td>\n",
       "      <td>0.0</td>\n",
       "      <td>0.0</td>\n",
       "      <td>0.0</td>\n",
       "      <td>0.0</td>\n",
       "      <td>0.0</td>\n",
       "      <td>0.0</td>\n",
       "      <td>0.0</td>\n",
       "      <td>0.0</td>\n",
       "      <td>0.0</td>\n",
       "      <td>NaN</td>\n",
       "      <td>NaN</td>\n",
       "      <td>180.0</td>\n",
       "      <td>100.0</td>\n",
       "      <td>0.0</td>\n",
       "      <td>0.0</td>\n",
       "      <td>0.0</td>\n",
       "      <td>0.0</td>\n",
       "      <td>0.0</td>\n",
       "      <td>0.0</td>\n",
       "      <td>1.0</td>\n",
       "      <td>0.0</td>\n",
       "      <td>0.0</td>\n",
       "      <td>0.0</td>\n",
       "      <td>0.0</td>\n",
       "      <td>0.0</td>\n",
       "      <td>0.0</td>\n",
       "      <td>0.0</td>\n",
       "      <td>0.0</td>\n",
       "      <td>1.0</td>\n",
       "      <td>0.0</td>\n",
       "      <td>0.0</td>\n",
       "      <td>0.0</td>\n",
       "      <td>0.0</td>\n",
       "      <td>0.0</td>\n",
       "      <td>1.0</td>\n",
       "      <td>0.0</td>\n",
       "      <td>0.0</td>\n",
       "      <td>0.0</td>\n",
       "      <td>0.0</td>\n",
       "      <td>0.0</td>\n",
       "      <td>0.0</td>\n",
       "      <td>0.0</td>\n",
       "      <td>0.0</td>\n",
       "      <td>0.0</td>\n",
       "      <td>0.0</td>\n",
       "      <td>1.0</td>\n",
       "      <td>0.0</td>\n",
       "      <td>0.0</td>\n",
       "      <td>0.0</td>\n",
       "      <td>0.0</td>\n",
       "      <td>0.0</td>\n",
       "      <td>0.0</td>\n",
       "      <td>0.0</td>\n",
       "      <td>0.0</td>\n",
       "      <td>0.0</td>\n",
       "      <td>0.0</td>\n",
       "      <td>0.0</td>\n",
       "      <td>0.0</td>\n",
       "      <td>4.7</td>\n",
       "      <td>0.0</td>\n",
       "      <td>138.0</td>\n",
       "      <td>NaN</td>\n",
       "      <td>NaN</td>\n",
       "      <td>NaN</td>\n",
       "      <td>8.0</td>\n",
       "      <td>16.0</td>\n",
       "      <td>4.0</td>\n",
       "      <td>0.0</td>\n",
       "      <td>0.0</td>\n",
       "      <td>1.0</td>\n",
       "      <td>NaN</td>\n",
       "      <td>NaN</td>\n",
       "      <td>NaN</td>\n",
       "      <td>0.0</td>\n",
       "      <td>0.0</td>\n",
       "      <td>0.0</td>\n",
       "      <td>0.0</td>\n",
       "      <td>0.0</td>\n",
       "      <td>0.0</td>\n",
       "      <td>0.0</td>\n",
       "      <td>1.0</td>\n",
       "      <td>0.0</td>\n",
       "      <td>0.0</td>\n",
       "      <td>1.0</td>\n",
       "      <td>1.0</td>\n",
       "      <td>0.0</td>\n",
       "      <td>0.0</td>\n",
       "    </tr>\n",
       "    <tr>\n",
       "      <th>1</th>\n",
       "      <td>55.0</td>\n",
       "      <td>1</td>\n",
       "      <td>1.0</td>\n",
       "      <td>0.0</td>\n",
       "      <td>0.0</td>\n",
       "      <td>0.0</td>\n",
       "      <td>0.0</td>\n",
       "      <td>0.0</td>\n",
       "      <td>0.0</td>\n",
       "      <td>0.0</td>\n",
       "      <td>0.0</td>\n",
       "      <td>0.0</td>\n",
       "      <td>0.0</td>\n",
       "      <td>0.0</td>\n",
       "      <td>0.0</td>\n",
       "      <td>0.0</td>\n",
       "      <td>0.0</td>\n",
       "      <td>0.0</td>\n",
       "      <td>0.0</td>\n",
       "      <td>0.0</td>\n",
       "      <td>0.0</td>\n",
       "      <td>0.0</td>\n",
       "      <td>0.0</td>\n",
       "      <td>0.0</td>\n",
       "      <td>0.0</td>\n",
       "      <td>0.0</td>\n",
       "      <td>0.0</td>\n",
       "      <td>0.0</td>\n",
       "      <td>0.0</td>\n",
       "      <td>0.0</td>\n",
       "      <td>0.0</td>\n",
       "      <td>0.0</td>\n",
       "      <td>0.0</td>\n",
       "      <td>NaN</td>\n",
       "      <td>NaN</td>\n",
       "      <td>120.0</td>\n",
       "      <td>90.0</td>\n",
       "      <td>0.0</td>\n",
       "      <td>0.0</td>\n",
       "      <td>0.0</td>\n",
       "      <td>0.0</td>\n",
       "      <td>0.0</td>\n",
       "      <td>0.0</td>\n",
       "      <td>4.0</td>\n",
       "      <td>1.0</td>\n",
       "      <td>0.0</td>\n",
       "      <td>0.0</td>\n",
       "      <td>0.0</td>\n",
       "      <td>1.0</td>\n",
       "      <td>0.0</td>\n",
       "      <td>0.0</td>\n",
       "      <td>0.0</td>\n",
       "      <td>0.0</td>\n",
       "      <td>0.0</td>\n",
       "      <td>0.0</td>\n",
       "      <td>0.0</td>\n",
       "      <td>0.0</td>\n",
       "      <td>1.0</td>\n",
       "      <td>0.0</td>\n",
       "      <td>0.0</td>\n",
       "      <td>0.0</td>\n",
       "      <td>0.0</td>\n",
       "      <td>0.0</td>\n",
       "      <td>0.0</td>\n",
       "      <td>0.0</td>\n",
       "      <td>0.0</td>\n",
       "      <td>0.0</td>\n",
       "      <td>0.0</td>\n",
       "      <td>0.0</td>\n",
       "      <td>0.0</td>\n",
       "      <td>0.0</td>\n",
       "      <td>0.0</td>\n",
       "      <td>0.0</td>\n",
       "      <td>0.0</td>\n",
       "      <td>0.0</td>\n",
       "      <td>0.0</td>\n",
       "      <td>0.0</td>\n",
       "      <td>0.0</td>\n",
       "      <td>0.0</td>\n",
       "      <td>0.0</td>\n",
       "      <td>0.0</td>\n",
       "      <td>1.0</td>\n",
       "      <td>3.5</td>\n",
       "      <td>0.0</td>\n",
       "      <td>132.0</td>\n",
       "      <td>0.38</td>\n",
       "      <td>0.18</td>\n",
       "      <td>NaN</td>\n",
       "      <td>7.8</td>\n",
       "      <td>3.0</td>\n",
       "      <td>2.0</td>\n",
       "      <td>0.0</td>\n",
       "      <td>0.0</td>\n",
       "      <td>0.0</td>\n",
       "      <td>1.0</td>\n",
       "      <td>0.0</td>\n",
       "      <td>1.0</td>\n",
       "      <td>0.0</td>\n",
       "      <td>0.0</td>\n",
       "      <td>0.0</td>\n",
       "      <td>0.0</td>\n",
       "      <td>1.0</td>\n",
       "      <td>0.0</td>\n",
       "      <td>0.0</td>\n",
       "      <td>1.0</td>\n",
       "      <td>0.0</td>\n",
       "      <td>1.0</td>\n",
       "      <td>1.0</td>\n",
       "      <td>1.0</td>\n",
       "      <td>0.0</td>\n",
       "      <td>1.0</td>\n",
       "    </tr>\n",
       "  </tbody>\n",
       "</table>\n",
       "</div>"
      ],
      "text/plain": [
       "    AGE  SEX  INF_ANAM  STENOK_AN  FK_STENOK  IBS_POST  IBS_NASL   GB  \\\n",
       "0  77.0    1       2.0        1.0        1.0       2.0       NaN  3.0   \n",
       "1  55.0    1       1.0        0.0        0.0       0.0       0.0  0.0   \n",
       "\n",
       "   SIM_GIPERT  DLIT_AG  ZSN_A  nr_11  nr_01  nr_02  nr_03  nr_04  nr_07  \\\n",
       "0         0.0      7.0    0.0    0.0    0.0    0.0    0.0    0.0    0.0   \n",
       "1         0.0      0.0    0.0    0.0    0.0    0.0    0.0    0.0    0.0   \n",
       "\n",
       "   nr_08  np_01  np_04  np_05  np_07  np_08  np_09  np_10  endocr_01  \\\n",
       "0    0.0    0.0    0.0    0.0    0.0    0.0    0.0    0.0        0.0   \n",
       "1    0.0    0.0    0.0    0.0    0.0    0.0    0.0    0.0        0.0   \n",
       "\n",
       "   endocr_02  endocr_03  zab_leg_01  zab_leg_02  zab_leg_03  zab_leg_04  \\\n",
       "0        0.0        0.0         0.0         0.0         0.0         0.0   \n",
       "1        0.0        0.0         0.0         0.0         0.0         0.0   \n",
       "\n",
       "   zab_leg_06  S_AD_KBRIG  D_AD_KBRIG  S_AD_ORIT  D_AD_ORIT  O_L_POST  \\\n",
       "0         0.0         NaN         NaN      180.0      100.0       0.0   \n",
       "1         0.0         NaN         NaN      120.0       90.0       0.0   \n",
       "\n",
       "   K_SH_POST  MP_TP_POST  SVT_POST  GT_POST  FIB_G_POST  ant_im  lat_im  \\\n",
       "0        0.0         0.0       0.0      0.0         0.0     1.0     0.0   \n",
       "1        0.0         0.0       0.0      0.0         0.0     4.0     1.0   \n",
       "\n",
       "   inf_im  post_im  IM_PG_P  ritm_ecg_p_01  ritm_ecg_p_02  ritm_ecg_p_04  \\\n",
       "0     0.0      0.0      0.0            0.0            0.0            0.0   \n",
       "1     0.0      0.0      0.0            1.0            0.0            0.0   \n",
       "\n",
       "   ritm_ecg_p_06  ritm_ecg_p_07  ritm_ecg_p_08  n_r_ecg_p_01  n_r_ecg_p_02  \\\n",
       "0            0.0            1.0            0.0           0.0           0.0   \n",
       "1            0.0            0.0            0.0           0.0           0.0   \n",
       "\n",
       "   n_r_ecg_p_03  n_r_ecg_p_04  n_r_ecg_p_05  n_r_ecg_p_06  n_r_ecg_p_08  \\\n",
       "0           0.0           0.0           1.0           0.0           0.0   \n",
       "1           0.0           1.0           0.0           0.0           0.0   \n",
       "\n",
       "   n_r_ecg_p_09  n_r_ecg_p_10  n_p_ecg_p_01  n_p_ecg_p_03  n_p_ecg_p_04  \\\n",
       "0           0.0           0.0           0.0           0.0           0.0   \n",
       "1           0.0           0.0           0.0           0.0           0.0   \n",
       "\n",
       "   n_p_ecg_p_05  n_p_ecg_p_06  n_p_ecg_p_07  n_p_ecg_p_08  n_p_ecg_p_09  \\\n",
       "0           0.0           0.0           0.0           1.0           0.0   \n",
       "1           0.0           0.0           0.0           0.0           0.0   \n",
       "\n",
       "   n_p_ecg_p_10  n_p_ecg_p_11  n_p_ecg_p_12  fibr_ter_01  fibr_ter_02  \\\n",
       "0           0.0           0.0           0.0          0.0          0.0   \n",
       "1           0.0           0.0           0.0          0.0          0.0   \n",
       "\n",
       "   fibr_ter_03  fibr_ter_05  fibr_ter_06  fibr_ter_07  fibr_ter_08  GIPO_K  \\\n",
       "0          0.0          0.0          0.0          0.0          0.0     0.0   \n",
       "1          0.0          0.0          0.0          0.0          0.0     1.0   \n",
       "\n",
       "   K_BLOOD  GIPER_NA  NA_BLOOD  ALT_BLOOD  AST_BLOOD  KFK_BLOOD  L_BLOOD  \\\n",
       "0      4.7       0.0     138.0        NaN        NaN        NaN      8.0   \n",
       "1      3.5       0.0     132.0       0.38       0.18        NaN      7.8   \n",
       "\n",
       "    ROE  TIME_B_S  R_AB_1_n  R_AB_2_n  R_AB_3_n  NA_KB  NOT_NA_KB  LID_KB  \\\n",
       "0  16.0       4.0       0.0       0.0       1.0    NaN        NaN     NaN   \n",
       "1   3.0       2.0       0.0       0.0       0.0    1.0        0.0     1.0   \n",
       "\n",
       "   NITR_S  NA_R_1_n  NA_R_2_n  NA_R_3_n  NOT_NA_1_n  NOT_NA_2_n  NOT_NA_3_n  \\\n",
       "0     0.0       0.0       0.0       0.0         0.0         0.0         0.0   \n",
       "1     0.0       0.0       0.0       0.0         1.0         0.0         0.0   \n",
       "\n",
       "   LID_S_n  B_BLOK_S_n  ANT_CA_S_n  GEPAR_S_n  ASP_S_n  TIKL_S_n  TRENT_S_n  \n",
       "0      1.0         0.0         0.0        1.0      1.0       0.0        0.0  \n",
       "1      1.0         0.0         1.0        1.0      1.0       0.0        1.0  "
      ]
     },
     "execution_count": 21,
     "metadata": {},
     "output_type": "execute_result"
    }
   ],
   "source": [
    "pd.set_option('display.max_columns', 200)\n",
    "\n",
    "X.head(2)"
   ]
  },
  {
   "cell_type": "code",
   "execution_count": 56,
   "metadata": {},
   "outputs": [
    {
     "data": {
      "text/plain": [
       "(1700, 111)"
      ]
     },
     "execution_count": 56,
     "metadata": {},
     "output_type": "execute_result"
    }
   ],
   "source": [
    "X.shape"
   ]
  },
  {
   "cell_type": "code",
   "execution_count": 28,
   "metadata": {},
   "outputs": [
    {
     "data": {
      "text/plain": [
       "type\n",
       "Binary         78\n",
       "Categorical    16\n",
       "Integer        10\n",
       "Continuous      7\n",
       "Name: count, dtype: int64"
      ]
     },
     "execution_count": 28,
     "metadata": {},
     "output_type": "execute_result"
    }
   ],
   "source": [
    "myocardial_infarction_complications.variables.query('role==\"Feature\"')['type'].value_counts()"
   ]
  },
  {
   "cell_type": "code",
   "execution_count": 61,
   "metadata": {},
   "outputs": [
    {
     "data": {
      "text/plain": [
       "(1700, 12)"
      ]
     },
     "execution_count": 61,
     "metadata": {},
     "output_type": "execute_result"
    }
   ],
   "source": [
    "y.shape"
   ]
  },
  {
   "cell_type": "code",
   "execution_count": 60,
   "metadata": {},
   "outputs": [
    {
     "data": {
      "text/plain": [
       "array(['Record ID (ID): Unique identifier. Cannot be related to participant. It can be used for reference only.',\n",
       "       'Age of patient.',\n",
       "       'Systolic blood pressure according to Emergency Cardiology Team ',\n",
       "       'Diastolic blood pressure according to Emergency Cardiology Team',\n",
       "       'Systolic blood pressure according to intensive care unit',\n",
       "       'Diastolic blood pressure according to intensive care unit',\n",
       "       'Use of opioid drugs in the ICU in the first hours of the hospital period ',\n",
       "       'Use of opioid drugs in the ICU in the second day of the hospital period ',\n",
       "       'Use of opioid drugs in the ICU in the third day of the hospital period ',\n",
       "       'Use of NSAIDs in the ICU in the second day of the hospital period ',\n",
       "       'Use of NSAIDs in the ICU in the third day of the hospital period '],\n",
       "      dtype=object)"
      ]
     },
     "execution_count": 60,
     "metadata": {},
     "output_type": "execute_result"
    }
   ],
   "source": [
    "myocardial_infarction_complications.variables.query('type==\"Integer\"')['description'].values"
   ]
  },
  {
   "cell_type": "code",
   "execution_count": 35,
   "metadata": {},
   "outputs": [
    {
     "data": {
      "text/plain": [
       "LET_IS\n",
       "0    1429\n",
       "1     110\n",
       "3      54\n",
       "7      27\n",
       "6      27\n",
       "4      23\n",
       "2      18\n",
       "5      12\n",
       "Name: count, dtype: int64"
      ]
     },
     "execution_count": 35,
     "metadata": {},
     "output_type": "execute_result"
    }
   ],
   "source": [
    "y['LET_IS'].value_counts()"
   ]
  },
  {
   "cell_type": "code",
   "execution_count": 37,
   "metadata": {},
   "outputs": [
    {
     "data": {
      "text/plain": [
       "FIBR_PREDS\n",
       "0    1530\n",
       "1     170\n",
       "Name: count, dtype: int64"
      ]
     },
     "metadata": {},
     "output_type": "display_data"
    },
    {
     "data": {
      "text/plain": [
       "PREDS_TAH\n",
       "0    1680\n",
       "1      20\n",
       "Name: count, dtype: int64"
      ]
     },
     "metadata": {},
     "output_type": "display_data"
    },
    {
     "data": {
      "text/plain": [
       "JELUD_TAH\n",
       "0    1658\n",
       "1      42\n",
       "Name: count, dtype: int64"
      ]
     },
     "metadata": {},
     "output_type": "display_data"
    },
    {
     "data": {
      "text/plain": [
       "FIBR_JELUD\n",
       "0    1629\n",
       "1      71\n",
       "Name: count, dtype: int64"
      ]
     },
     "metadata": {},
     "output_type": "display_data"
    },
    {
     "data": {
      "text/plain": [
       "A_V_BLOK\n",
       "0    1643\n",
       "1      57\n",
       "Name: count, dtype: int64"
      ]
     },
     "metadata": {},
     "output_type": "display_data"
    },
    {
     "data": {
      "text/plain": [
       "OTEK_LANC\n",
       "0    1541\n",
       "1     159\n",
       "Name: count, dtype: int64"
      ]
     },
     "metadata": {},
     "output_type": "display_data"
    },
    {
     "data": {
      "text/plain": [
       "RAZRIV\n",
       "0    1646\n",
       "1      54\n",
       "Name: count, dtype: int64"
      ]
     },
     "metadata": {},
     "output_type": "display_data"
    },
    {
     "data": {
      "text/plain": [
       "DRESSLER\n",
       "0    1625\n",
       "1      75\n",
       "Name: count, dtype: int64"
      ]
     },
     "metadata": {},
     "output_type": "display_data"
    },
    {
     "data": {
      "text/plain": [
       "ZSN\n",
       "0    1306\n",
       "1     394\n",
       "Name: count, dtype: int64"
      ]
     },
     "metadata": {},
     "output_type": "display_data"
    },
    {
     "data": {
      "text/plain": [
       "REC_IM\n",
       "0    1541\n",
       "1     159\n",
       "Name: count, dtype: int64"
      ]
     },
     "metadata": {},
     "output_type": "display_data"
    },
    {
     "data": {
      "text/plain": [
       "P_IM_STEN\n",
       "0    1552\n",
       "1     148\n",
       "Name: count, dtype: int64"
      ]
     },
     "metadata": {},
     "output_type": "display_data"
    },
    {
     "data": {
      "text/plain": [
       "LET_IS\n",
       "0    1429\n",
       "1     110\n",
       "3      54\n",
       "7      27\n",
       "6      27\n",
       "4      23\n",
       "2      18\n",
       "5      12\n",
       "Name: count, dtype: int64"
      ]
     },
     "metadata": {},
     "output_type": "display_data"
    }
   ],
   "source": [
    "for c in y.columns:\n",
    "    display(y[c].value_counts())"
   ]
  },
  {
   "cell_type": "code",
   "execution_count": 48,
   "metadata": {},
   "outputs": [
    {
     "data": {
      "text/plain": [
       "[<matplotlib.lines.Line2D at 0x20a82d30e90>]"
      ]
     },
     "execution_count": 48,
     "metadata": {},
     "output_type": "execute_result"
    },
    {
     "data": {
      "image/png": "[encoded data removed]",
      "text/plain": [
       "<Figure size 640x480 with 1 Axes>"
      ]
     },
     "metadata": {},
     "output_type": "display_data"
    }
   ],
   "source": [
    "from sklearn.preprocessing import StandardScaler\n",
    "from sklearn.decomposition import PCA\n",
    "import matplotlib.pyplot as plt\n",
    "\n",
    "scaler = StandardScaler()\n",
    "X_norm = scaler.fit_transform(X.fillna(0))\n",
    "pca = PCA(n_components=50)\n",
    "X_comp = pca.fit_transform(X_norm)\n",
    "\n",
    "plt.plot(X_comp[:,0], X_comp[:,1],'.')"
   ]
  },
  {
   "cell_type": "code",
   "execution_count": 55,
   "metadata": {},
   "outputs": [
    {
     "data": {
      "text/plain": [
       "array([0.04951329, 0.09462316, 0.13654642, 0.17272759, 0.20733921,\n",
       "       0.23842917, 0.26818511, 0.29491395, 0.31914635, 0.34288061,\n",
       "       0.36605479, 0.38821199, 0.40985785, 0.43068996, 0.45100401,\n",
       "       0.47103367, 0.49063392, 0.50965466, 0.52812186, 0.54634399,\n",
       "       0.56445223, 0.58221015, 0.59952072, 0.61666265, 0.63354012,\n",
       "       0.65030964, 0.66672537, 0.68304079, 0.69932215, 0.71536397,\n",
       "       0.73108579, 0.74671284, 0.76210544, 0.77734615, 0.79234223,\n",
       "       0.8071406 , 0.82171526, 0.83618772, 0.85060581, 0.86479458,\n",
       "       0.8788697 , 0.89280744, 0.90663345, 0.92027175, 0.93379828,\n",
       "       0.94729522, 0.96066615, 0.97388461, 0.98697143, 1.        ])"
      ]
     },
     "execution_count": 55,
     "metadata": {},
     "output_type": "execute_result"
    }
   ],
   "source": [
    "((pca.explained_variance_)/pca.explained_variance_.sum()).cumsum()"
   ]
  },
  {
   "cell_type": "code",
   "execution_count": 109,
   "metadata": {},
   "outputs": [
    {
     "name": "stdout",
     "output_type": "stream",
     "text": [
      "(11932, 3)\n",
      "111\n"
     ]
    },
    {
     "data": {
      "text/html": [
       "<div>\n",
       "<style scoped>\n",
       "    .dataframe tbody tr th:only-of-type {\n",
       "        vertical-align: middle;\n",
       "    }\n",
       "\n",
       "    .dataframe tbody tr th {\n",
       "        vertical-align: top;\n",
       "    }\n",
       "\n",
       "    .dataframe thead th {\n",
       "        text-align: right;\n",
       "    }\n",
       "</style>\n",
       "<table border=\"1\" class=\"dataframe\">\n",
       "  <thead>\n",
       "    <tr style=\"text-align: right;\">\n",
       "      <th></th>\n",
       "      <th>source</th>\n",
       "      <th>target</th>\n",
       "      <th>weight</th>\n",
       "    </tr>\n",
       "  </thead>\n",
       "  <tbody>\n",
       "    <tr>\n",
       "      <th>1</th>\n",
       "      <td>AGE</td>\n",
       "      <td>SEX</td>\n",
       "      <td>0.394250</td>\n",
       "    </tr>\n",
       "    <tr>\n",
       "      <th>2</th>\n",
       "      <td>AGE</td>\n",
       "      <td>INF_ANAM</td>\n",
       "      <td>0.098238</td>\n",
       "    </tr>\n",
       "    <tr>\n",
       "      <th>3</th>\n",
       "      <td>AGE</td>\n",
       "      <td>STENOK_AN</td>\n",
       "      <td>0.232969</td>\n",
       "    </tr>\n",
       "    <tr>\n",
       "      <th>4</th>\n",
       "      <td>AGE</td>\n",
       "      <td>FK_STENOK</td>\n",
       "      <td>0.198185</td>\n",
       "    </tr>\n",
       "    <tr>\n",
       "      <th>5</th>\n",
       "      <td>AGE</td>\n",
       "      <td>IBS_POST</td>\n",
       "      <td>0.103516</td>\n",
       "    </tr>\n",
       "    <tr>\n",
       "      <th>...</th>\n",
       "      <td>...</td>\n",
       "      <td>...</td>\n",
       "      <td>...</td>\n",
       "    </tr>\n",
       "    <tr>\n",
       "      <th>11979</th>\n",
       "      <td>TRENT_S_n</td>\n",
       "      <td>post_im</td>\n",
       "      <td>0.082165</td>\n",
       "    </tr>\n",
       "    <tr>\n",
       "      <th>11989</th>\n",
       "      <td>TRENT_S_n</td>\n",
       "      <td>n_r_ecg_p_03</td>\n",
       "      <td>0.077845</td>\n",
       "    </tr>\n",
       "    <tr>\n",
       "      <th>12026</th>\n",
       "      <td>TRENT_S_n</td>\n",
       "      <td>NA_KB</td>\n",
       "      <td>0.076997</td>\n",
       "    </tr>\n",
       "    <tr>\n",
       "      <th>12028</th>\n",
       "      <td>TRENT_S_n</td>\n",
       "      <td>LID_KB</td>\n",
       "      <td>0.074802</td>\n",
       "    </tr>\n",
       "    <tr>\n",
       "      <th>12040</th>\n",
       "      <td>TRENT_S_n</td>\n",
       "      <td>ASP_S_n</td>\n",
       "      <td>0.225673</td>\n",
       "    </tr>\n",
       "  </tbody>\n",
       "</table>\n",
       "<p>1432 rows × 3 columns</p>\n",
       "</div>"
      ],
      "text/plain": [
       "          source        target    weight\n",
       "1            AGE           SEX  0.394250\n",
       "2            AGE      INF_ANAM  0.098238\n",
       "3            AGE     STENOK_AN  0.232969\n",
       "4            AGE     FK_STENOK  0.198185\n",
       "5            AGE      IBS_POST  0.103516\n",
       "...          ...           ...       ...\n",
       "11979  TRENT_S_n       post_im  0.082165\n",
       "11989  TRENT_S_n  n_r_ecg_p_03  0.077845\n",
       "12026  TRENT_S_n         NA_KB  0.076997\n",
       "12028  TRENT_S_n        LID_KB  0.074802\n",
       "12040  TRENT_S_n       ASP_S_n  0.225673\n",
       "\n",
       "[1432 rows x 3 columns]"
      ]
     },
     "metadata": {},
     "output_type": "display_data"
    }
   ],
   "source": [
    "dfc = X.corr().stack().reset_index()\n",
    "dfc.columns = ['source','target','weight']\n",
    "dfc['weight'] = dfc['weight'].abs()\n",
    "dfc = dfc[dfc['source']!=dfc['target']]\n",
    "print(dfc.shape)\n",
    "# Minimo del valor absoluto de la máxima correlación agrupada por variable\n",
    "# \"Todas las variables deben tener al menos una conexión\"\n",
    "dfc = dfc[dfc['weight']>7.2e-2] \n",
    "print(dfc['source'].nunique())\n",
    "display(dfc)"
   ]
  },
  {
   "cell_type": "code",
   "execution_count": 110,
   "metadata": {},
   "outputs": [
    {
     "data": {
      "text/plain": [
       "count    1432.000000\n",
       "mean        0.172756\n",
       "std         0.167894\n",
       "min         0.072205\n",
       "25%         0.086987\n",
       "50%         0.108139\n",
       "75%         0.164250\n",
       "max         1.000000\n",
       "Name: weight, dtype: float64"
      ]
     },
     "execution_count": 110,
     "metadata": {},
     "output_type": "execute_result"
    }
   ],
   "source": [
    "dfc['weight'].describe()"
   ]
  },
  {
   "cell_type": "code",
   "execution_count": 111,
   "metadata": {},
   "outputs": [],
   "source": [
    "dfc.to_csv('grafo_correlaciones.csv', index=None)"
   ]
  },
  {
   "cell_type": "code",
   "execution_count": 78,
   "metadata": {},
   "outputs": [
    {
     "data": {
      "text/plain": [
       "(216, 3)"
      ]
     },
     "execution_count": 78,
     "metadata": {},
     "output_type": "execute_result"
    }
   ],
   "source": [
    "# El archivo CSV se procesa en el programa Gephi, para construir la figura y obtener los clusters."
   ]
  },
  {
   "cell_type": "code",
   "execution_count": 116,
   "metadata": {},
   "outputs": [],
   "source": [
    "df_clusters = pd.read_csv('clusters.csv')"
   ]
  },
  {
   "cell_type": "code",
   "execution_count": 118,
   "metadata": {},
   "outputs": [
    {
     "data": {
      "text/plain": [
       "modularity_class\n",
       "0    38\n",
       "2    34\n",
       "3    27\n",
       "1     8\n",
       "4     4\n",
       "Name: count, dtype: int64"
      ]
     },
     "execution_count": 118,
     "metadata": {},
     "output_type": "execute_result"
    }
   ],
   "source": [
    "df_clusters['modularity_class'].value_counts()"
   ]
  },
  {
   "cell_type": "code",
   "execution_count": 161,
   "metadata": {},
   "outputs": [
    {
     "data": {
      "text/plain": [
       "array([5.11187404e-01, 3.57084917e-01, 4.96441262e-02, 2.80156399e-02,\n",
       "       2.03536761e-02, 1.26211217e-02, 3.73934895e-03, 2.43682398e-03,\n",
       "       2.06827157e-03, 1.73211622e-03, 1.45726108e-03, 1.32706122e-03,\n",
       "       1.28102213e-03, 1.09064308e-03, 7.22378434e-04, 6.49874106e-04,\n",
       "       6.09815452e-04, 5.22229698e-04, 4.80643740e-04, 4.28901498e-04,\n",
       "       3.51456926e-04, 3.32230757e-04, 3.05573093e-04, 2.95406596e-04,\n",
       "       2.86026808e-04, 2.20661634e-04, 1.88867770e-04, 1.13986669e-04,\n",
       "       1.11570158e-04, 9.81274354e-05, 7.42739857e-05, 4.91989146e-05,\n",
       "       3.45763060e-05, 2.85182330e-05, 2.31278281e-05, 2.24410644e-05,\n",
       "       7.10236376e-06, 3.57809501e-06])"
      ]
     },
     "execution_count": 161,
     "metadata": {},
     "output_type": "execute_result"
    }
   ],
   "source": [
    "list_vars = df_clusters.query('modularity_class==0')['Id'].unique()\n",
    "\n",
    "from sklearn.decomposition import PCA\n",
    "pca = PCA(n_components=len(list_vars), random_state=42)\n",
    "pca.fit(X[list_vars].fillna(0))\n",
    "(pca.explained_variance_)/(pca.explained_variance_.sum())"
   ]
  },
  {
   "cell_type": "code",
   "execution_count": 128,
   "metadata": {},
   "outputs": [
    {
     "data": {
      "text/plain": [
       "array([0.40175463, 0.24797373, 0.12841189, 0.10279159, 0.04935751,\n",
       "       0.04273208, 0.02593846, 0.00104009])"
      ]
     },
     "execution_count": 128,
     "metadata": {},
     "output_type": "execute_result"
    }
   ],
   "source": [
    "list_vars = df_clusters.query('modularity_class==1')['Id'].unique()\n",
    "\n",
    "from sklearn.decomposition import PCA\n",
    "pca = PCA(n_components=len(list_vars), random_state=42)\n",
    "pca.fit(X[list_vars].fillna(0))\n",
    "(pca.explained_variance_)/(pca.explained_variance_.sum())"
   ]
  },
  {
   "cell_type": "code",
   "execution_count": 129,
   "metadata": {},
   "outputs": [
    {
     "data": {
      "text/plain": [
       "array([6.40378291e-01, 3.49920194e-01, 5.65562365e-03, 3.01574817e-03,\n",
       "       8.83997697e-04, 6.67818138e-05, 2.17569304e-05, 1.67724603e-05,\n",
       "       1.54969608e-05, 4.03716822e-06, 2.81642532e-06, 2.51679830e-06,\n",
       "       2.30092410e-06, 2.07888164e-06, 1.86695063e-06, 1.68603919e-06,\n",
       "       1.57642085e-06, 1.38677281e-06, 1.00353737e-06, 7.73288389e-07,\n",
       "       4.99575200e-07, 4.64778825e-07, 4.25078000e-07, 4.17837711e-07,\n",
       "       3.12588589e-07, 2.54574558e-07, 2.29977475e-07, 1.22789120e-07,\n",
       "       1.07353914e-07, 1.07010500e-07, 1.04986825e-07, 1.01156017e-07,\n",
       "       9.84261957e-08, 4.85629333e-08])"
      ]
     },
     "execution_count": 129,
     "metadata": {},
     "output_type": "execute_result"
    }
   ],
   "source": [
    "list_vars = df_clusters.query('modularity_class==2')['Id'].unique()\n",
    "\n",
    "from sklearn.decomposition import PCA\n",
    "pca = PCA(n_components=len(list_vars), random_state=42)\n",
    "pca.fit(X[list_vars].fillna(0))\n",
    "(pca.explained_variance_)/(pca.explained_variance_.sum())"
   ]
  },
  {
   "cell_type": "code",
   "execution_count": 130,
   "metadata": {},
   "outputs": [
    {
     "data": {
      "text/plain": [
       "array([0.35025465, 0.24284241, 0.11607918, 0.0468997 , 0.04507012,\n",
       "       0.03819044, 0.02549714, 0.01916428, 0.01629073, 0.01498571,\n",
       "       0.01428343, 0.01390197, 0.00995173, 0.00958196, 0.00640138,\n",
       "       0.00514584, 0.00447211, 0.00396562, 0.00341105, 0.0032938 ,\n",
       "       0.00306117, 0.00243492, 0.00163065, 0.00129682, 0.00105807,\n",
       "       0.0004316 , 0.00040353])"
      ]
     },
     "execution_count": 130,
     "metadata": {},
     "output_type": "execute_result"
    }
   ],
   "source": [
    "list_vars = df_clusters.query('modularity_class==3')['Id'].unique()\n",
    "\n",
    "from sklearn.decomposition import PCA\n",
    "pca = PCA(n_components=len(list_vars), random_state=42)\n",
    "pca.fit(X[list_vars].fillna(0))\n",
    "(pca.explained_variance_)/(pca.explained_variance_.sum())"
   ]
  },
  {
   "cell_type": "code",
   "execution_count": 136,
   "metadata": {},
   "outputs": [
    {
     "data": {
      "text/plain": [
       "array([9.99772482e-01, 1.85456792e-04, 3.68770059e-05, 5.18459415e-06])"
      ]
     },
     "execution_count": 136,
     "metadata": {},
     "output_type": "execute_result"
    }
   ],
   "source": [
    "list_vars = df_clusters.query('modularity_class==4')['Id'].unique()\n",
    "\n",
    "from sklearn.decomposition import PCA\n",
    "pca = PCA(n_components=len(list_vars), random_state=42)\n",
    "pca.fit(X[list_vars].fillna(0))\n",
    "(pca.explained_variance_)/(pca.explained_variance_.sum())"
   ]
  },
  {
   "cell_type": "code",
   "execution_count": 144,
   "metadata": {},
   "outputs": [],
   "source": [
    "X_decomp = []\n",
    "\n",
    "list_vars = df_clusters.query('modularity_class==0')['Id'].unique()\n",
    "pca = PCA(n_components=2, random_state=42)\n",
    "xpca = pd.DataFrame(pca.fit_transform(X[list_vars].fillna(0)))\n",
    "xpca.columns = ['c0_pca_0','c0_pca_1']\n",
    "X_decomp.append(xpca)\n",
    "\n",
    "list_vars = df_clusters.query('modularity_class==1')['Id'].unique()\n",
    "pca = PCA(n_components=4, random_state=42)\n",
    "xpca = pd.DataFrame(pca.fit_transform(X[list_vars].fillna(0)))\n",
    "xpca.columns = ['c1_pca_0','c1_pca_1','c1_pca_2','c1_pca_3']\n",
    "X_decomp.append(xpca)\n",
    "\n",
    "list_vars = df_clusters.query('modularity_class==2')['Id'].unique()\n",
    "pca = PCA(n_components=2, random_state=42)\n",
    "xpca = pd.DataFrame(pca.fit_transform(X[list_vars].fillna(0)))\n",
    "xpca.columns = ['c2_pca_0','c2_pca_1']\n",
    "X_decomp.append(xpca)\n",
    "\n",
    "list_vars = df_clusters.query('modularity_class==3')['Id'].unique()\n",
    "pca = PCA(n_components=3, random_state=42)\n",
    "xpca = pd.DataFrame(pca.fit_transform(X[list_vars].fillna(0)))\n",
    "xpca.columns = ['c3_pca_0','c3_pca_1','c3_pca_2']\n",
    "X_decomp.append(xpca)\n",
    "\n",
    "list_vars = df_clusters.query('modularity_class==4')['Id'].unique()\n",
    "pca = PCA(n_components=1, random_state=42)\n",
    "xpca = pd.DataFrame(pca.fit_transform(X[list_vars].fillna(0)))\n",
    "xpca.columns = ['c4_pca_0']\n",
    "X_decomp.append(xpca)\n",
    "\n",
    "X_decomp = pd.concat(X_decomp, axis=1)"
   ]
  },
  {
   "cell_type": "code",
   "execution_count": 148,
   "metadata": {},
   "outputs": [
    {
     "name": "stdout",
     "output_type": "stream",
     "text": [
      "['AGE' 'SEX' 'INF_ANAM' 'STENOK_AN' 'FK_STENOK' 'IBS_POST' 'endocr_01'\n",
      " 'zab_leg_02' 'lat_im' 'n_r_ecg_p_01' 'fibr_ter_03' 'KFK_BLOOD' 'ROE'\n",
      " 'NITR_S' 'B_BLOK_S_n' 'GEPAR_S_n' 'endocr_02' 'endocr_03' 'LID_S_n'\n",
      " 'ant_im' 'post_im' 'R_AB_1_n' 'NA_R_1_n' 'n_r_ecg_p_03' 'L_BLOOD' 'NA_KB'\n",
      " 'LID_KB' 'n_r_ecg_p_04' 'n_p_ecg_p_11' 'TIME_B_S' 'NOT_NA_KB'\n",
      " 'fibr_ter_05' 'n_p_ecg_p_01' 'zab_leg_01' 'fibr_ter_02' 'inf_im'\n",
      " 'TRENT_S_n' 'fibr_ter_01']\n",
      "['R_AB_2_n' 'NA_R_2_n' 'R_AB_3_n' 'NA_R_3_n' 'NOT_NA_1_n' 'np_01'\n",
      " 'NOT_NA_3_n' 'NOT_NA_2_n']\n",
      "['IBS_NASL' 'GB' 'DLIT_AG' 'S_AD_KBRIG' 'n_p_ecg_p_03' 'ALT_BLOOD'\n",
      " 'S_AD_ORIT' 'D_AD_ORIT' 'K_SH_POST' 'nr_02' 'nr_08' 'zab_leg_04'\n",
      " 'D_AD_KBRIG' 'FIB_G_POST' 'IM_PG_P' 'n_p_ecg_p_12' 'fibr_ter_06'\n",
      " 'fibr_ter_07' 'AST_BLOOD' 'TIKL_S_n' 'SIM_GIPERT' 'np_04' 'GT_POST'\n",
      " 'n_p_ecg_p_04' 'np_09' 'ritm_ecg_p_06' 'n_p_ecg_p_06' 'n_p_ecg_p_05'\n",
      " 'ANT_CA_S_n' 'ASP_S_n' 'ritm_ecg_p_04' 'n_r_ecg_p_09' 'n_r_ecg_p_10'\n",
      " 'fibr_ter_08']\n",
      "['ZSN_A' 'nr_04' 'zab_leg_03' 'O_L_POST' 'MP_TP_POST' 'ritm_ecg_p_01'\n",
      " 'ritm_ecg_p_02' 'n_r_ecg_p_05' 'n_r_ecg_p_06' 'ritm_ecg_p_07' 'nr_11'\n",
      " 'nr_01' 'nr_03' 'n_p_ecg_p_10' 'np_07' 'np_10' 'SVT_POST' 'n_r_ecg_p_08'\n",
      " 'n_p_ecg_p_08' 'nr_07' 'np_05' 'n_p_ecg_p_07' 'n_r_ecg_p_02' 'np_08'\n",
      " 'zab_leg_06' 'n_p_ecg_p_09' 'ritm_ecg_p_08']\n",
      "['GIPER_NA' 'GIPO_K' 'NA_BLOOD' 'K_BLOOD']\n"
     ]
    }
   ],
   "source": [
    "print(df_clusters.query('modularity_class==0')['Id'].unique())\n",
    "print(df_clusters.query('modularity_class==1')['Id'].unique())\n",
    "print(df_clusters.query('modularity_class==2')['Id'].unique())\n",
    "print(df_clusters.query('modularity_class==3')['Id'].unique())\n",
    "print(df_clusters.query('modularity_class==4')['Id'].unique())"
   ]
  },
  {
   "cell_type": "code",
   "execution_count": 151,
   "metadata": {},
   "outputs": [
    {
     "data": {
      "text/plain": [
       "38"
      ]
     },
     "execution_count": 151,
     "metadata": {},
     "output_type": "execute_result"
    }
   ],
   "source": [
    "df_clusters.query('modularity_class==0')['Id'].nunique()"
   ]
  },
  {
   "cell_type": "code",
   "execution_count": 159,
   "metadata": {},
   "outputs": [
    {
     "data": {
      "text/plain": [
       "array(['Hypokalemia ( < 4 mmol/L)', 'Serum potassium content',\n",
       "       'Increase of sodium in serum (more than 150 mmol/L)',\n",
       "       'Serum sodium content'], dtype=object)"
      ]
     },
     "execution_count": 159,
     "metadata": {},
     "output_type": "execute_result"
    }
   ],
   "source": [
    "dfe = myocardial_infarction_complications.variables\n",
    "dfe[dfe['name'].isin(df_clusters.query('modularity_class==4')['Id'].unique())]['description'].values"
   ]
  },
  {
   "cell_type": "code",
   "execution_count": null,
   "metadata": {},
   "outputs": [],
   "source": []
  }
 ],
 "metadata": {
  "kernelspec": {
   "display_name": "Python 3",
   "language": "python",
   "name": "python3"
  },
  "language_info": {
   "codemirror_mode": {
    "name": "ipython",
    "version": 3
   },
   "file_extension": ".py",
   "mimetype": "text/x-python",
   "name": "python",
   "nbconvert_exporter": "python",
   "pygments_lexer": "ipython3",
   "version": "3.12.4"
  }
 },
 "nbformat": 4,
 "nbformat_minor": 2
}

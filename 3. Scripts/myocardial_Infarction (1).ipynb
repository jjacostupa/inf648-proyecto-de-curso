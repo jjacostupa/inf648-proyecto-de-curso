{
  "nbformat": 4,
  "nbformat_minor": 0,
  "metadata": {
    "colab": {
      "provenance": []
    },
    "kernelspec": {
      "name": "python3",
      "display_name": "Python 3"
    },
    "language_info": {
      "name": "python"
    }
  },
  "cells": [
    {
      "cell_type": "code",
      "execution_count": null,
      "metadata": {
        "id": "Z4Njh47RhUQA"
      },
      "outputs": [],
      "source": []
    },
    {
      "cell_type": "markdown",
      "source": [
        "# Prediccion de complicaciones durante la hospitalizacion del paciente de infarto de miocardio\n"
      ],
      "metadata": {
        "id": "rlwl-Ejvj4CH"
      }
    },
    {
      "cell_type": "markdown",
      "source": [
        "En este proyecto se va utilizar técnicas de aprendisaje automático para la predicción de posibles complicaciones en pacientes que fueron ingresados a un hospital por ataque al miocardio."
      ],
      "metadata": {
        "id": "22xI3x6IkGqt"
      }
    },
    {
      "cell_type": "code",
      "source": [
        "import random\n",
        "from collections import Counter\n",
        "import pandas as pd\n",
        "from pandas import DataFrame\n",
        "import numpy as np\n",
        "from numpy import isnan\n",
        "from numpy import mean\n",
        "from numpy import std\n",
        "from numpy import loadtxt\n",
        "from numpy import sort\n",
        "from matplotlib import pyplot\n",
        "import matplotlib.pyplot as plt\n",
        "import graphviz\n",
        "from graphviz import Digraph\n",
        "from sklearn import tree\n",
        "from sklearn import metrics\n",
        "from sklearn.impute import KNNImputer\n",
        "from sklearn.impute import SimpleImputer\n",
        "from sklearn.model_selection import cross_val_score\n",
        "from sklearn.model_selection import RepeatedStratifiedKFold\n",
        "from sklearn.model_selection import cross_validate\n",
        "from sklearn.model_selection import GridSearchCV\n",
        "from sklearn.model_selection import train_test_split\n",
        "from sklearn.model_selection import KFold\n",
        "from sklearn.metrics import accuracy_score\n",
        "from sklearn.metrics import roc_curve\n",
        "from sklearn.metrics import roc_auc_score\n",
        "from sklearn.feature_selection import RFE\n",
        "from sklearn.feature_selection import SelectFromModel\n",
        "from sklearn.linear_model import LogisticRegression\n",
        "import sklearn.linear_model as skl_lm\n",
        "from sklearn.datasets import make_classification\n",
        "from sklearn.ensemble import RandomForestClassifier\n",
        "from sklearn.tree import DecisionTreeClassifier\n",
        "from sklearn.pipeline import Pipeline\n",
        "import xgboost\n",
        "import xgboost as xgb\n",
        "from xgboost import XGBClassifier\n",
        "from xgboost.sklearn import XGBClassifier\n",
        "from xgboost import plot_importance\n",
        "from IPython.display import HTML\n",
        "import warnings\n",
        "warnings.filterwarnings('ignore')"
      ],
      "metadata": {
        "id": "ZhJNwoLjkgf1"
      },
      "execution_count": null,
      "outputs": []
    },
    {
      "cell_type": "code",
      "source": [
        "dataframe = pd.read_csv(\"/content/drive/MyDrive/PUCP/Aprendizaje_automatico/machine/myocardial+infarction+complications/myocardial_dataset.csv\", header=0, na_values='?')"
      ],
      "metadata": {
        "id": "fvyBga_akric"
      },
      "execution_count": 7,
      "outputs": []
    },
    {
      "cell_type": "markdown",
      "source": [
        "Análisis de datos"
      ],
      "metadata": {
        "id": "MVP45OXplYze"
      }
    },
    {
      "cell_type": "code",
      "source": [
        "print(dataframe.shape)"
      ],
      "metadata": {
        "colab": {
          "base_uri": "https://localhost:8080/"
        },
        "id": "V0DpnlJtnfDD",
        "outputId": "6aedb5dc-78e3-4642-961f-d22db6efc4ab"
      },
      "execution_count": 8,
      "outputs": [
        {
          "output_type": "stream",
          "name": "stdout",
          "text": [
            "(1700, 112)\n"
          ]
        }
      ]
    },
    {
      "cell_type": "code",
      "source": [
        "print(dataframe.dtypes.unique())"
      ],
      "metadata": {
        "colab": {
          "base_uri": "https://localhost:8080/"
        },
        "id": "ZdtEzXVanmAC",
        "outputId": "74f6d4c8-600b-451f-8213-3e7381b84c99"
      },
      "execution_count": 9,
      "outputs": [
        {
          "output_type": "stream",
          "name": "stdout",
          "text": [
            "[dtype('float64') dtype('int64')]\n"
          ]
        }
      ]
    },
    {
      "cell_type": "code",
      "source": [
        "print(dataframe.head())"
      ],
      "metadata": {
        "colab": {
          "base_uri": "https://localhost:8080/"
        },
        "id": "vp917JyWnqwJ",
        "outputId": "8ed0ee7f-2ba9-4d78-808e-e7664756b3ed"
      },
      "execution_count": 10,
      "outputs": [
        {
          "output_type": "stream",
          "name": "stdout",
          "text": [
            "    AGE  SEX  INF_ANAM  STENOK_AN  FK_STENOK  IBS_POST  IBS_NASL   GB  \\\n",
            "0  77.0    1       2.0        1.0        1.0       2.0       NaN  3.0   \n",
            "1  55.0    1       1.0        0.0        0.0       0.0       0.0  0.0   \n",
            "2  52.0    1       0.0        0.0        0.0       2.0       NaN  2.0   \n",
            "3  68.0    0       0.0        0.0        0.0       2.0       NaN  2.0   \n",
            "4  60.0    1       0.0        0.0        0.0       2.0       NaN  3.0   \n",
            "\n",
            "   SIM_GIPERT  DLIT_AG  ...  NOT_NA_2_n  NOT_NA_3_n  LID_S_n  B_BLOK_S_n  \\\n",
            "0         0.0      7.0  ...         0.0         0.0      1.0         0.0   \n",
            "1         0.0      0.0  ...         0.0         0.0      1.0         0.0   \n",
            "2         0.0      2.0  ...         2.0         2.0      1.0         1.0   \n",
            "3         0.0      3.0  ...         0.0         0.0      0.0         0.0   \n",
            "4         0.0      7.0  ...         0.0         0.0      0.0         0.0   \n",
            "\n",
            "   ANT_CA_S_n  GEPAR_S_n  ASP_S_n  TIKL_S_n  TRENT_S_n  Compl  \n",
            "0         0.0        1.0      1.0       0.0        0.0      0  \n",
            "1         1.0        1.0      1.0       0.0        1.0      0  \n",
            "2         0.0        1.0      1.0       0.0        0.0      0  \n",
            "3         1.0        1.0      1.0       0.0        0.0      1  \n",
            "4         1.0        0.0      1.0       0.0        1.0      0  \n",
            "\n",
            "[5 rows x 112 columns]\n"
          ]
        }
      ]
    },
    {
      "cell_type": "code",
      "source": [
        "print(dataframe.describe())"
      ],
      "metadata": {
        "colab": {
          "base_uri": "https://localhost:8080/"
        },
        "id": "nxTWtrZJpyEo",
        "outputId": "99fd8551-5ded-4456-c23f-f0579da56e74"
      },
      "execution_count": 11,
      "outputs": [
        {
          "output_type": "stream",
          "name": "stdout",
          "text": [
            "               AGE          SEX     INF_ANAM    STENOK_AN    FK_STENOK  \\\n",
            "count  1692.000000  1700.000000  1696.000000  1594.000000  1627.000000   \n",
            "mean     61.856974     0.626471     0.554835     2.316186     1.205286   \n",
            "std      11.259936     0.483883     0.836801     2.440586     1.040814   \n",
            "min      26.000000     0.000000     0.000000     0.000000     0.000000   \n",
            "25%      54.000000     0.000000     0.000000     0.000000     0.000000   \n",
            "50%      63.000000     1.000000     0.000000     1.000000     2.000000   \n",
            "75%      70.000000     1.000000     1.000000     5.000000     2.000000   \n",
            "max      92.000000     1.000000     3.000000     6.000000     4.000000   \n",
            "\n",
            "          IBS_POST  IBS_NASL           GB   SIM_GIPERT      DLIT_AG  ...  \\\n",
            "count  1649.000000  72.00000  1691.000000  1692.000000  1452.000000  ...   \n",
            "mean      1.160703   0.37500     1.393258     0.033688     3.340220  ...   \n",
            "std       0.801400   0.48752     1.088803     0.180478     3.098646  ...   \n",
            "min       0.000000   0.00000     0.000000     0.000000     0.000000  ...   \n",
            "25%       0.000000   0.00000     0.000000     0.000000     0.000000  ...   \n",
            "50%       1.000000   0.00000     2.000000     0.000000     3.000000  ...   \n",
            "75%       2.000000   1.00000     2.000000     0.000000     7.000000  ...   \n",
            "max       2.000000   1.00000     3.000000     1.000000     7.000000  ...   \n",
            "\n",
            "        NOT_NA_2_n   NOT_NA_3_n      LID_S_n   B_BLOK_S_n   ANT_CA_S_n  \\\n",
            "count  1590.000000  1569.000000  1690.000000  1689.000000  1687.000000   \n",
            "mean      0.113208     0.084767     0.283432     0.127294     0.666864   \n",
            "std       0.399514     0.355107     0.450798     0.333401     0.471474   \n",
            "min       0.000000     0.000000     0.000000     0.000000     0.000000   \n",
            "25%       0.000000     0.000000     0.000000     0.000000     0.000000   \n",
            "50%       0.000000     0.000000     0.000000     0.000000     1.000000   \n",
            "75%       0.000000     0.000000     1.000000     0.000000     1.000000   \n",
            "max       3.000000     2.000000     1.000000     1.000000     1.000000   \n",
            "\n",
            "         GEPAR_S_n      ASP_S_n     TIKL_S_n    TRENT_S_n       Compl  \n",
            "count  1683.000000  1683.000000  1684.000000  1684.000000  1700.00000  \n",
            "mean      0.714795     0.743910     0.017815     0.202494     0.55000  \n",
            "std       0.451646     0.436602     0.132317     0.401978     0.49764  \n",
            "min       0.000000     0.000000     0.000000     0.000000     0.00000  \n",
            "25%       0.000000     0.000000     0.000000     0.000000     0.00000  \n",
            "50%       1.000000     1.000000     0.000000     0.000000     1.00000  \n",
            "75%       1.000000     1.000000     0.000000     0.000000     1.00000  \n",
            "max       1.000000     1.000000     1.000000     1.000000     1.00000  \n",
            "\n",
            "[8 rows x 112 columns]\n"
          ]
        }
      ]
    },
    {
      "cell_type": "code",
      "source": [],
      "metadata": {
        "id": "ctmYpG2zp1FA"
      },
      "execution_count": null,
      "outputs": []
    },
    {
      "cell_type": "markdown",
      "source": [
        "#Pre-procesamiento de los datos"
      ],
      "metadata": {
        "id": "Wlt94GtIp7gd"
      }
    },
    {
      "cell_type": "markdown",
      "source": [
        "**Manejo de datos faltantes**"
      ],
      "metadata": {
        "id": "BorfvVLhqGZG"
      }
    },
    {
      "cell_type": "markdown",
      "source": [
        "Columnas con datos faltantes, se van a remover las columnas con mas de 30% de datos faltantes, como resultado 7 columnas y 24 filas se eliminaron."
      ],
      "metadata": {
        "id": "_vXnfjwhqWNA"
      }
    },
    {
      "cell_type": "code",
      "source": [
        "# valores faltantes por columna (# umbral de: 30%)\n",
        "column_list = []\n",
        "for i in range(dataframe.shape[1]):\n",
        "    n_miss = dataframe.iloc[:,i].isnull().sum()\n",
        "    perc = n_miss / dataframe.shape[0] * 100\n",
        "    # print('> %d, Missing: %d (%.1f%%)' % (i, n_miss, perc))\n",
        "    if perc >= 30:\n",
        "        column_list.append(i)"
      ],
      "metadata": {
        "id": "-8kUw6RXp_cf"
      },
      "execution_count": 12,
      "outputs": []
    },
    {
      "cell_type": "code",
      "source": [
        "# Se elimina filas con datos faltantes\n",
        "dataframe_col_name = dataframe.columns\n",
        "dataframe_col_name_delete= dataframe_col_name[column_list]\n",
        "dataframe.drop(dataframe_col_name_delete, axis=1, inplace=True)"
      ],
      "metadata": {
        "id": "7kApD2nYrYTo"
      },
      "execution_count": 13,
      "outputs": []
    },
    {
      "cell_type": "code",
      "source": [
        "dataframe.to_csv('myocardial_dataset2.csv')\n",
        "dataframe_2 = pd.read_csv(\"myocardial_dataset2.csv\", index_col = 0, na_values='?')"
      ],
      "metadata": {
        "id": "SJSy8IG2rmL8"
      },
      "execution_count": 14,
      "outputs": []
    },
    {
      "cell_type": "code",
      "source": [
        "# valores faltantes por columna (# umbral de: 30%)\n",
        "row_list = []\n",
        "for i in range(dataframe_2.shape[0]):\n",
        "    n_miss = dataframe_2.iloc[i].isnull().sum()\n",
        "    perc = n_miss / dataframe_2.shape[1] * 100\n",
        "    # print('> %d, Missing: %d (%.1f%%)' % (i, n_miss, perc))\n",
        "    if perc >= 30:\n",
        "        row_list.append(i)"
      ],
      "metadata": {
        "id": "YF60j5DBrvwe"
      },
      "execution_count": 15,
      "outputs": []
    },
    {
      "cell_type": "code",
      "source": [
        "dataframe_2.drop(row_list,axis=0,inplace=True)\n",
        "dataframe_2.to_csv('myocardial_dataset3.csv')"
      ],
      "metadata": {
        "id": "m4t1kxAxsAZW"
      },
      "execution_count": 16,
      "outputs": []
    },
    {
      "cell_type": "code",
      "source": [
        "X = dataframe_2.iloc[:, 0:104]\n",
        "y = dataframe_2.iloc[:, 104]"
      ],
      "metadata": {
        "id": "nRHSVaX_sG8m"
      },
      "execution_count": 17,
      "outputs": []
    },
    {
      "cell_type": "code",
      "source": [
        "# crea una lista de variables binarias\n",
        "binary_list = []\n",
        "for i in range(len(X.iloc[0])):\n",
        "    if X.iloc[:,i].max() == 1:\n",
        "        binary_list.append(i)"
      ],
      "metadata": {
        "id": "paceHYUXsJ6W"
      },
      "execution_count": 18,
      "outputs": []
    },
    {
      "cell_type": "code",
      "source": [
        "# crea una lista  de variables continuas\n",
        "continuous_list = [0,32,33,79,81,82,83,84,85]\n",
        "\n",
        "# crea un a lista de todas las variables\n",
        "listt = [*range(104)]"
      ],
      "metadata": {
        "id": "pvsVIbA2sVhd"
      },
      "execution_count": 19,
      "outputs": []
    },
    {
      "cell_type": "code",
      "source": [
        "def Diff(li1, li2):\n",
        "    return list(set(li1) - set(li2)) + list(set(li2) - set(li1))"
      ],
      "metadata": {
        "id": "o5j1b4uqslTb"
      },
      "execution_count": 20,
      "outputs": []
    },
    {
      "cell_type": "code",
      "source": [
        "# crea una lista de variables categ{oricas\n",
        "binary_categorical = Diff(listt, continuous_list)\n",
        "categorical_list = Diff(binary_categorical,binary_list)"
      ],
      "metadata": {
        "id": "xE_hrBoasmiz"
      },
      "execution_count": 21,
      "outputs": []
    },
    {
      "cell_type": "code",
      "source": [
        "# convierte binario a booleano\n",
        "for i in range(len(X.columns[binary_list])):\n",
        "    X[X.columns[binary_list][i]] = X[X.columns[binary_list][i]].astype('bool')\n",
        "X[X.columns[binary_list]]\n",
        "X_binary = X[X.columns[binary_list]]\n",
        "binary_name = X_binary.columns"
      ],
      "metadata": {
        "id": "Wt3b3ROostLr"
      },
      "execution_count": 22,
      "outputs": []
    },
    {
      "cell_type": "code",
      "source": [
        "# se convierte de continuo a float\n",
        "for i in range(len(X.columns[continuous_list])):\n",
        "    X[X.columns[continuous_list][i]] = X[X.columns[continuous_list][i]].astype('float')\n",
        "X[X.columns[continuous_list]]\n",
        "X_continuous = X[X.columns[continuous_list]]\n",
        "cont_name = X_continuous.columns"
      ],
      "metadata": {
        "id": "p6NzIxSRs0NN"
      },
      "execution_count": 23,
      "outputs": []
    },
    {
      "cell_type": "code",
      "source": [
        "# Se convierte de categórico a entero\n",
        "for i in range(len(X.columns[categorical_list])):\n",
        "    X[X.columns[categorical_list][i]] = X[X.columns[categorical_list][i]].astype('float')\n",
        "X[X.columns[categorical_list]]\n",
        "X_categorical = X[X.columns[categorical_list]]\n",
        "catg_name = X_categorical.columns"
      ],
      "metadata": {
        "id": "x5XzUpKds8v1"
      },
      "execution_count": 24,
      "outputs": []
    },
    {
      "cell_type": "markdown",
      "source": [
        "**Imputación de datos**"
      ],
      "metadata": {
        "id": "xZdzOLaptGhB"
      }
    },
    {
      "cell_type": "markdown",
      "source": [
        "Los datos con menos de 30% de datos faltantes se va aplicar la imputación de datos por la estrategia de KNN."
      ],
      "metadata": {
        "id": "OvlmlBwntN69"
      }
    },
    {
      "cell_type": "code",
      "source": [
        "#inputar variables binarias\n",
        "imputer = KNNImputer(n_neighbors=5)\n",
        "imputer=imputer.fit(X_binary)\n",
        "\n",
        "# Se convierte a array\n",
        "X_binary = imputer.transform(X_binary)\n",
        "X_binary = pd.DataFrame(X_binary)\n",
        "X_binary.columns = binary_name\n",
        "X_binary.to_csv('Myocardial_binary.csv',sep=\",\")\n",
        "# check null values\n",
        "print(\"La suma total de todos los valores faltantes en X binario:\", X_binary.isnull().sum(axis = 0).sum())"
      ],
      "metadata": {
        "colab": {
          "base_uri": "https://localhost:8080/"
        },
        "id": "AWadyfFft-eU",
        "outputId": "47df26a2-9243-4c4c-bb9c-06bbcfb7961b"
      },
      "execution_count": 28,
      "outputs": [
        {
          "output_type": "stream",
          "name": "stdout",
          "text": [
            "La suma total de todos los valores faltantes en X binario: 0\n"
          ]
        }
      ]
    },
    {
      "cell_type": "code",
      "source": [
        "# imputación en variables continuas\n",
        "imputer = KNNImputer(n_neighbors=5)\n",
        "imputer=imputer.fit(X_continuous)\n",
        "\n",
        "X_continuous = imputer.transform(X_continuous)\n",
        "X_continuous = pd.DataFrame(X_continuous)\n",
        "X_continuous.to_csv('Myocardial_cont.csv',sep=\",\")\n",
        "X_continuous.columns = cont_name\n",
        "print(\"La suma total de todos los valores faltantes en X continuo:\", X_continuous.isnull().sum(axis = 0).sum())"
      ],
      "metadata": {
        "colab": {
          "base_uri": "https://localhost:8080/"
        },
        "id": "1S5R3oH_tMrl",
        "outputId": "9cc575ba-2286-491f-df06-53da2d9ce42c"
      },
      "execution_count": 29,
      "outputs": [
        {
          "output_type": "stream",
          "name": "stdout",
          "text": [
            "La suma total de todos los valores faltantes en X continuo: 0\n"
          ]
        }
      ]
    },
    {
      "cell_type": "markdown",
      "source": [
        "Para las variables categóricas se va usar la imputación de datos por moda."
      ],
      "metadata": {
        "id": "J55bC4uru7Ec"
      }
    },
    {
      "cell_type": "code",
      "source": [
        "# imputación de datos categóricas\n",
        "imputer = SimpleImputer(missing_values=np.nan, strategy='most_frequent')\n",
        "imputer=imputer.fit(X_categorical)\n",
        "\n",
        "X_categorical = imputer.transform(X_categorical)\n",
        "X_categorical = pd.DataFrame(X_categorical)\n",
        "X_categorical.columns = catg_name\n",
        "X_categorical.to_csv('myocardial_catg.csv',sep=\",\")\n",
        "print(\"La suma total de todos los valores faltantes en X categorica:\",X_categorical.isnull().sum(axis = 0).sum())"
      ],
      "metadata": {
        "colab": {
          "base_uri": "https://localhost:8080/"
        },
        "id": "esijYhoavCP0",
        "outputId": "7b8b826c-9677-4592-d57d-2cd41227cbd7"
      },
      "execution_count": 30,
      "outputs": [
        {
          "output_type": "stream",
          "name": "stdout",
          "text": [
            "La suma total de todos los valores faltantes en X categorica: 0\n"
          ]
        }
      ]
    },
    {
      "cell_type": "code",
      "source": [
        "# retorno de columnas en array\n",
        "def column(matrix, i):\n",
        "    return [row[i] for row in matrix]"
      ],
      "metadata": {
        "id": "oerYC6dlvgNc"
      },
      "execution_count": 31,
      "outputs": []
    },
    {
      "cell_type": "markdown",
      "source": [
        "**Imputación de datos con método One-Hot-Encoding**"
      ],
      "metadata": {
        "id": "j8DNEugTwt62"
      }
    },
    {
      "cell_type": "markdown",
      "source": [
        "Para mejorar la imputación de datos de tipo categórico se utiliza el método One-Hot Encoding"
      ],
      "metadata": {
        "id": "wQ-kdUD9w5_6"
      }
    },
    {
      "cell_type": "code",
      "source": [
        "# codificación de variables categoricas\n",
        "X_cat = X_categorical.to_numpy()\n",
        "encoded_dataframe = pd.get_dummies(column(X_cat,0))\n",
        "\n",
        "for i in range(1,len(X_categorical.iloc[0])):\n",
        "    encoded = pd.get_dummies(column(X_cat,i))\n",
        "    encoded_dataframe = pd.concat([encoded_dataframe, encoded], axis=1)\n",
        "\n",
        "categorical_names = [*np.arange(101)]\n",
        "encoded_dataframe.columns = categorical_names\n",
        "encoded_dataframe.to_csv('myocardial_encoding.csv',sep=\",\")"
      ],
      "metadata": {
        "id": "facpT1DzxEFr"
      },
      "execution_count": 32,
      "outputs": []
    },
    {
      "cell_type": "markdown",
      "source": [
        "**Normalización de datos**"
      ],
      "metadata": {
        "id": "sFKfhP2TxXwx"
      }
    },
    {
      "cell_type": "markdown",
      "source": [
        "Las variables continuas tienes diferentes escalas lo cual pude afectar al algoritmo de predicción, para lo cual se realiza la normalización de los datos."
      ],
      "metadata": {
        "id": "z3_PbnZvx2dS"
      }
    },
    {
      "cell_type": "code",
      "source": [
        "# estandarización de variables continuas\n",
        "for i in range(len(X_continuous.iloc[0])):\n",
        "    X_continuous.iloc[:, i] = (X_continuous.iloc[:, i] - X_continuous.iloc[:, i].mean())/X_continuous.iloc[:, i].std()\n",
        "\n",
        "# dataset combinados\n",
        "X_all_combined = pd.concat([X_continuous, encoded_dataframe, X_binary], axis=1)\n",
        "X_all_combined.to_csv('myocardial_2_v2.csv')\n",
        "X_df = X_all_combined"
      ],
      "metadata": {
        "id": "FCV92dUbxaxi"
      },
      "execution_count": 33,
      "outputs": []
    },
    {
      "cell_type": "markdown",
      "source": [
        "**Entrenamiento y validación**"
      ],
      "metadata": {
        "id": "nRkUJLmNy8IJ"
      }
    },
    {
      "cell_type": "markdown",
      "source": [
        "En el siguiente apartado se va dividir los datos en los conjuntos de entrenamiento y validación, mediantes muestreo estratificado y un cross-validation de k=10"
      ],
      "metadata": {
        "id": "-M63zDHGzA4Q"
      }
    },
    {
      "cell_type": "code",
      "source": [
        "counter = Counter(y)\n",
        "print(counter)"
      ],
      "metadata": {
        "colab": {
          "base_uri": "https://localhost:8080/"
        },
        "id": "p7qyvtQ3051H",
        "outputId": "c89bd066-0de4-40a3-f22f-55d98c0c3074"
      },
      "execution_count": 34,
      "outputs": [
        {
          "output_type": "stream",
          "name": "stdout",
          "text": [
            "Counter({1: 923, 0: 753})\n"
          ]
        }
      ]
    },
    {
      "cell_type": "code",
      "source": [
        "random.seed(240)\n",
        "from sklearn.model_selection import train_test_split\n",
        "X_train, X_test, y_train, y_test = train_test_split(X_df, y, test_size=0.2, random_state=42, stratify = y)"
      ],
      "metadata": {
        "id": "lAAcvyeV1ADe"
      },
      "execution_count": 35,
      "outputs": []
    },
    {
      "cell_type": "code",
      "source": [
        "counter = Counter(y_train)\n",
        "print(counter)"
      ],
      "metadata": {
        "colab": {
          "base_uri": "https://localhost:8080/"
        },
        "id": "PUf4cqP81Ha_",
        "outputId": "33cb4811-4050-48aa-f647-3ec4187a3095"
      },
      "execution_count": 36,
      "outputs": [
        {
          "output_type": "stream",
          "name": "stdout",
          "text": [
            "Counter({1: 738, 0: 602})\n"
          ]
        }
      ]
    },
    {
      "cell_type": "markdown",
      "source": [
        "**METODOLOGÍA:**\n",
        "**ARBOL DE DECISIÓN**"
      ],
      "metadata": {
        "id": "O5LmSSPw1Tjr"
      }
    },
    {
      "cell_type": "markdown",
      "source": [
        "Eliminación de caraceterísticas recursivas"
      ],
      "metadata": {
        "id": "7Y1l40eE14Ng"
      }
    },
    {
      "cell_type": "code",
      "source": [
        "# Lista de modelos para evaluar\n",
        "def get_models():\n",
        "    models = dict()\n",
        "    for i in range(2, 21):\n",
        "        rfe = RFE(estimator=DecisionTreeClassifier(), n_features_to_select=i)\n",
        "        model = DecisionTreeClassifier()\n",
        "        models[str(i)] = Pipeline(steps=[('s',rfe),('m',model)])\n",
        "    return models\n",
        "\n",
        "# evaluación con cross-validation\n",
        "def evaluate_model(model, X_train, y_train):\n",
        "    cv = RepeatedStratifiedKFold(n_splits=10, n_repeats=3, random_state=1)\n",
        "    scores = cross_val_score(model, X_train, y_train, scoring='accuracy', cv=cv, n_jobs=-1, error_score='raise')\n",
        "    return scores"
      ],
      "metadata": {
        "id": "t9BUWRWo1-w-"
      },
      "execution_count": 45,
      "outputs": []
    },
    {
      "cell_type": "code",
      "source": [
        "# se toma el modelo para evaluar\n",
        "models = get_models()\n",
        "X_train.columns = X_train.columns.map(str)\n",
        "\n",
        "# evaluan modelos y se guardan los resultados\n",
        "results, names = list(), list()\n",
        "for name, model in models.items():\n",
        "    scores = evaluate_model(model, X_train, y_train)\n",
        "    results.append(scores)\n",
        "    names.append(name)\n",
        "    print('>%s %.3f (%.3f)' % (name, mean(scores), std(scores)))\n",
        "\n",
        "# grafica de resultados y comparación\n",
        "pyplot.boxplot(results, labels=names, showmeans=True)\n",
        "pyplot.show()"
      ],
      "metadata": {
        "colab": {
          "base_uri": "https://localhost:8080/",
          "height": 760
        },
        "id": "Kp7m6ynM2IFO",
        "outputId": "4676e9ac-1b0c-4247-b6bd-ae7e5349c692"
      },
      "execution_count": 40,
      "outputs": [
        {
          "output_type": "stream",
          "name": "stdout",
          "text": [
            ">2 0.513 (0.050)\n",
            ">3 0.526 (0.043)\n",
            ">4 0.531 (0.048)\n",
            ">5 0.542 (0.040)\n",
            ">6 0.535 (0.033)\n",
            ">7 0.549 (0.043)\n",
            ">8 0.539 (0.046)\n",
            ">9 0.542 (0.040)\n",
            ">10 0.561 (0.042)\n",
            ">11 0.550 (0.040)\n",
            ">12 0.559 (0.040)\n",
            ">13 0.566 (0.035)\n",
            ">14 0.567 (0.041)\n",
            ">15 0.565 (0.045)\n",
            ">16 0.565 (0.046)\n",
            ">17 0.562 (0.042)\n",
            ">18 0.564 (0.050)\n",
            ">19 0.569 (0.044)\n",
            ">20 0.572 (0.046)\n"
          ]
        },
        {
          "output_type": "display_data",
          "data": {
            "text/plain": [
              "<Figure size 640x480 with 1 Axes>"
            ],
            "image/png": "[encoded data removed]"
          },
          "metadata": {}
        }
      ]
    },
    {
      "cell_type": "markdown",
      "source": [
        "RFE- Eliminación recursiva de caracteristicas"
      ],
      "metadata": {
        "id": "1eTfGLZh7o9r"
      }
    },
    {
      "cell_type": "code",
      "source": [
        "# 10 características\n",
        "rfe_10 = RFE(estimator=DecisionTreeClassifier(), n_features_to_select=10)\n",
        "rfe_10.fit(X_train, y_train)\n",
        "\n",
        "# reporte de características seleccionadas\n",
        "for i in range(X_train.shape[1]):\n",
        "    if(rfe_10.support_[i] == True):\n",
        "        print('Column: %d, Selected %s, Rank: %.3f' % (i, rfe_10.support_[i], rfe_10.ranking_[i]))\n",
        "\n",
        "# guardado de características seleccionadas\n",
        "DT_selected_list_10 = []\n",
        "for i in range(X_train.shape[1]):\n",
        "    if rfe_10.support_[i] == True:\n",
        "        DT_selected_list_10.append(i)\n",
        "X_train.columns[DT_selected_list_10]\n",
        "X_train_10 = X_train[X_train.columns[DT_selected_list_10]]"
      ],
      "metadata": {
        "colab": {
          "base_uri": "https://localhost:8080/"
        },
        "id": "PUcAX1fZ7xCj",
        "outputId": "d9932290-0433-40b2-817b-1d54351a2da6"
      },
      "execution_count": 41,
      "outputs": [
        {
          "output_type": "stream",
          "name": "stdout",
          "text": [
            "Column: 0, Selected True, Rank: 1.000\n",
            "Column: 1, Selected True, Rank: 1.000\n",
            "Column: 2, Selected True, Rank: 1.000\n",
            "Column: 3, Selected True, Rank: 1.000\n",
            "Column: 4, Selected True, Rank: 1.000\n",
            "Column: 5, Selected True, Rank: 1.000\n",
            "Column: 6, Selected True, Rank: 1.000\n",
            "Column: 7, Selected True, Rank: 1.000\n",
            "Column: 8, Selected True, Rank: 1.000\n",
            "Column: 41, Selected True, Rank: 1.000\n"
          ]
        }
      ]
    },
    {
      "cell_type": "markdown",
      "source": [
        "Ajuste de Hiperparámetros"
      ],
      "metadata": {
        "id": "BM7eg-5M8Y_M"
      }
    },
    {
      "cell_type": "code",
      "source": [
        "# 10 características\n",
        "param_test1 = {\n",
        " 'max_depth':range(2,25,1),\n",
        " 'min_samples_leaf':range(10,60,5)\n",
        "}\n",
        "grid = GridSearchCV(DecisionTreeClassifier(),param_test1)\n",
        "\n",
        "grid.fit(X_train_10,y_train)\n",
        "grid.best_params_, grid.best_score_"
      ],
      "metadata": {
        "colab": {
          "base_uri": "https://localhost:8080/"
        },
        "id": "WC3SlgJJ8eoQ",
        "outputId": "84bcf23e-4db6-432f-82d4-72a7af416bdb"
      },
      "execution_count": 42,
      "outputs": [
        {
          "output_type": "execute_result",
          "data": {
            "text/plain": [
              "({'max_depth': 2, 'min_samples_leaf': 10}, 0.5977611940298508)"
            ]
          },
          "metadata": {},
          "execution_count": 42
        }
      ]
    },
    {
      "cell_type": "markdown",
      "source": [
        "Predicción"
      ],
      "metadata": {
        "id": "Chss1we48jw5"
      }
    },
    {
      "cell_type": "code",
      "source": [
        "# 10 características\n",
        "X_test_10 = X_test[X_test.columns[DT_selected_list_10]]\n",
        "\n",
        "clf_dt_10 = DecisionTreeClassifier(max_depth=2, min_samples_leaf=10)\n",
        "clf_dt_10 = clf_dt_10.fit(X_train_10,y_train)\n",
        "y_pred = clf_dt_10.predict(X_test_10)\n",
        "\n",
        "# reporte de métricas\n",
        "print(\"Accuracy:\",metrics.accuracy_score(y_test, y_pred))\n",
        "print(\"Precision:\",metrics.precision_score(y_test, y_pred))\n",
        "print(\"Recall:\",metrics.recall_score(y_test, y_pred))\n",
        "print(\"F-measure:\",metrics.f1_score(y_test, y_pred))"
      ],
      "metadata": {
        "colab": {
          "base_uri": "https://localhost:8080/",
          "height": 391
        },
        "id": "PZLAKl6_8lX5",
        "outputId": "9fcf9909-f691-4186-8f09-e89879e1fd99"
      },
      "execution_count": 46,
      "outputs": [
        {
          "output_type": "error",
          "ename": "TypeError",
          "evalue": "Feature names are only supported if all input features have string names, but your input has ['int', 'str'] as feature name / column name types. If you want feature names to be stored and validated, you must convert them all to strings, by using X.columns = X.columns.astype(str) for example. Otherwise you can remove feature / column names from your input data, or convert them all to a non-string data type.",
          "traceback": [
            "\u001b[0;31m---------------------------------------------------------------------------\u001b[0m",
            "\u001b[0;31mTypeError\u001b[0m                                 Traceback (most recent call last)",
            "\u001b[0;32m<ipython-input-46-b2208696914e>\u001b[0m in \u001b[0;36m<cell line: 6>\u001b[0;34m()\u001b[0m\n\u001b[1;32m      4\u001b[0m \u001b[0mclf_dt_10\u001b[0m \u001b[0;34m=\u001b[0m \u001b[0mDecisionTreeClassifier\u001b[0m\u001b[0;34m(\u001b[0m\u001b[0mmax_depth\u001b[0m\u001b[0;34m=\u001b[0m\u001b[0;36m2\u001b[0m\u001b[0;34m,\u001b[0m \u001b[0mmin_samples_leaf\u001b[0m\u001b[0;34m=\u001b[0m\u001b[0;36m10\u001b[0m\u001b[0;34m)\u001b[0m\u001b[0;34m\u001b[0m\u001b[0;34m\u001b[0m\u001b[0m\n\u001b[1;32m      5\u001b[0m \u001b[0mclf_dt_10\u001b[0m \u001b[0;34m=\u001b[0m \u001b[0mclf_dt_10\u001b[0m\u001b[0;34m.\u001b[0m\u001b[0mfit\u001b[0m\u001b[0;34m(\u001b[0m\u001b[0mX_train_10\u001b[0m\u001b[0;34m,\u001b[0m\u001b[0my_train\u001b[0m\u001b[0;34m)\u001b[0m\u001b[0;34m\u001b[0m\u001b[0;34m\u001b[0m\u001b[0m\n\u001b[0;32m----> 6\u001b[0;31m \u001b[0my_pred\u001b[0m \u001b[0;34m=\u001b[0m \u001b[0mclf_dt_10\u001b[0m\u001b[0;34m.\u001b[0m\u001b[0mpredict\u001b[0m\u001b[0;34m(\u001b[0m\u001b[0mX_test_10\u001b[0m\u001b[0;34m)\u001b[0m\u001b[0;34m\u001b[0m\u001b[0;34m\u001b[0m\u001b[0m\n\u001b[0m\u001b[1;32m      7\u001b[0m \u001b[0;34m\u001b[0m\u001b[0m\n\u001b[1;32m      8\u001b[0m \u001b[0;31m# reporte de métricas\u001b[0m\u001b[0;34m\u001b[0m\u001b[0;34m\u001b[0m\u001b[0m\n",
            "\u001b[0;32m/usr/local/lib/python3.10/dist-packages/sklearn/tree/_classes.py\u001b[0m in \u001b[0;36mpredict\u001b[0;34m(self, X, check_input)\u001b[0m\n\u001b[1;32m    424\u001b[0m         \"\"\"\n\u001b[1;32m    425\u001b[0m         \u001b[0mcheck_is_fitted\u001b[0m\u001b[0;34m(\u001b[0m\u001b[0mself\u001b[0m\u001b[0;34m)\u001b[0m\u001b[0;34m\u001b[0m\u001b[0;34m\u001b[0m\u001b[0m\n\u001b[0;32m--> 426\u001b[0;31m         \u001b[0mX\u001b[0m \u001b[0;34m=\u001b[0m \u001b[0mself\u001b[0m\u001b[0;34m.\u001b[0m\u001b[0m_validate_X_predict\u001b[0m\u001b[0;34m(\u001b[0m\u001b[0mX\u001b[0m\u001b[0;34m,\u001b[0m \u001b[0mcheck_input\u001b[0m\u001b[0;34m)\u001b[0m\u001b[0;34m\u001b[0m\u001b[0;34m\u001b[0m\u001b[0m\n\u001b[0m\u001b[1;32m    427\u001b[0m         \u001b[0mproba\u001b[0m \u001b[0;34m=\u001b[0m \u001b[0mself\u001b[0m\u001b[0;34m.\u001b[0m\u001b[0mtree_\u001b[0m\u001b[0;34m.\u001b[0m\u001b[0mpredict\u001b[0m\u001b[0;34m(\u001b[0m\u001b[0mX\u001b[0m\u001b[0;34m)\u001b[0m\u001b[0;34m\u001b[0m\u001b[0;34m\u001b[0m\u001b[0m\n\u001b[1;32m    428\u001b[0m         \u001b[0mn_samples\u001b[0m \u001b[0;34m=\u001b[0m \u001b[0mX\u001b[0m\u001b[0;34m.\u001b[0m\u001b[0mshape\u001b[0m\u001b[0;34m[\u001b[0m\u001b[0;36m0\u001b[0m\u001b[0;34m]\u001b[0m\u001b[0;34m\u001b[0m\u001b[0;34m\u001b[0m\u001b[0m\n",
            "\u001b[0;32m/usr/local/lib/python3.10/dist-packages/sklearn/tree/_classes.py\u001b[0m in \u001b[0;36m_validate_X_predict\u001b[0;34m(self, X, check_input)\u001b[0m\n\u001b[1;32m    390\u001b[0m         \u001b[0;34m\"\"\"Validate the training data on predict (probabilities).\"\"\"\u001b[0m\u001b[0;34m\u001b[0m\u001b[0;34m\u001b[0m\u001b[0m\n\u001b[1;32m    391\u001b[0m         \u001b[0;32mif\u001b[0m \u001b[0mcheck_input\u001b[0m\u001b[0;34m:\u001b[0m\u001b[0;34m\u001b[0m\u001b[0;34m\u001b[0m\u001b[0m\n\u001b[0;32m--> 392\u001b[0;31m             \u001b[0mX\u001b[0m \u001b[0;34m=\u001b[0m \u001b[0mself\u001b[0m\u001b[0;34m.\u001b[0m\u001b[0m_validate_data\u001b[0m\u001b[0;34m(\u001b[0m\u001b[0mX\u001b[0m\u001b[0;34m,\u001b[0m \u001b[0mdtype\u001b[0m\u001b[0;34m=\u001b[0m\u001b[0mDTYPE\u001b[0m\u001b[0;34m,\u001b[0m \u001b[0maccept_sparse\u001b[0m\u001b[0;34m=\u001b[0m\u001b[0;34m\"csr\"\u001b[0m\u001b[0;34m,\u001b[0m \u001b[0mreset\u001b[0m\u001b[0;34m=\u001b[0m\u001b[0;32mFalse\u001b[0m\u001b[0;34m)\u001b[0m\u001b[0;34m\u001b[0m\u001b[0;34m\u001b[0m\u001b[0m\n\u001b[0m\u001b[1;32m    393\u001b[0m             if issparse(X) and (\n\u001b[1;32m    394\u001b[0m                 \u001b[0mX\u001b[0m\u001b[0;34m.\u001b[0m\u001b[0mindices\u001b[0m\u001b[0;34m.\u001b[0m\u001b[0mdtype\u001b[0m \u001b[0;34m!=\u001b[0m \u001b[0mnp\u001b[0m\u001b[0;34m.\u001b[0m\u001b[0mintc\u001b[0m \u001b[0;32mor\u001b[0m \u001b[0mX\u001b[0m\u001b[0;34m.\u001b[0m\u001b[0mindptr\u001b[0m\u001b[0;34m.\u001b[0m\u001b[0mdtype\u001b[0m \u001b[0;34m!=\u001b[0m \u001b[0mnp\u001b[0m\u001b[0;34m.\u001b[0m\u001b[0mintc\u001b[0m\u001b[0;34m\u001b[0m\u001b[0;34m\u001b[0m\u001b[0m\n",
            "\u001b[0;32m/usr/local/lib/python3.10/dist-packages/sklearn/base.py\u001b[0m in \u001b[0;36m_validate_data\u001b[0;34m(self, X, y, reset, validate_separately, **check_params)\u001b[0m\n\u001b[1;32m    546\u001b[0m             \u001b[0mvalidated\u001b[0m\u001b[0;34m.\u001b[0m\u001b[0;34m\u001b[0m\u001b[0;34m\u001b[0m\u001b[0m\n\u001b[1;32m    547\u001b[0m         \"\"\"\n\u001b[0;32m--> 548\u001b[0;31m         \u001b[0mself\u001b[0m\u001b[0;34m.\u001b[0m\u001b[0m_check_feature_names\u001b[0m\u001b[0;34m(\u001b[0m\u001b[0mX\u001b[0m\u001b[0;34m,\u001b[0m \u001b[0mreset\u001b[0m\u001b[0;34m=\u001b[0m\u001b[0mreset\u001b[0m\u001b[0;34m)\u001b[0m\u001b[0;34m\u001b[0m\u001b[0;34m\u001b[0m\u001b[0m\n\u001b[0m\u001b[1;32m    549\u001b[0m \u001b[0;34m\u001b[0m\u001b[0m\n\u001b[1;32m    550\u001b[0m         \u001b[0;32mif\u001b[0m \u001b[0my\u001b[0m \u001b[0;32mis\u001b[0m \u001b[0;32mNone\u001b[0m \u001b[0;32mand\u001b[0m \u001b[0mself\u001b[0m\u001b[0;34m.\u001b[0m\u001b[0m_get_tags\u001b[0m\u001b[0;34m(\u001b[0m\u001b[0;34m)\u001b[0m\u001b[0;34m[\u001b[0m\u001b[0;34m\"requires_y\"\u001b[0m\u001b[0;34m]\u001b[0m\u001b[0;34m:\u001b[0m\u001b[0;34m\u001b[0m\u001b[0;34m\u001b[0m\u001b[0m\n",
            "\u001b[0;32m/usr/local/lib/python3.10/dist-packages/sklearn/base.py\u001b[0m in \u001b[0;36m_check_feature_names\u001b[0;34m(self, X, reset)\u001b[0m\n\u001b[1;32m    423\u001b[0m \u001b[0;34m\u001b[0m\u001b[0m\n\u001b[1;32m    424\u001b[0m         \u001b[0mfitted_feature_names\u001b[0m \u001b[0;34m=\u001b[0m \u001b[0mgetattr\u001b[0m\u001b[0;34m(\u001b[0m\u001b[0mself\u001b[0m\u001b[0;34m,\u001b[0m \u001b[0;34m\"feature_names_in_\"\u001b[0m\u001b[0;34m,\u001b[0m \u001b[0;32mNone\u001b[0m\u001b[0;34m)\u001b[0m\u001b[0;34m\u001b[0m\u001b[0;34m\u001b[0m\u001b[0m\n\u001b[0;32m--> 425\u001b[0;31m         \u001b[0mX_feature_names\u001b[0m \u001b[0;34m=\u001b[0m \u001b[0m_get_feature_names\u001b[0m\u001b[0;34m(\u001b[0m\u001b[0mX\u001b[0m\u001b[0;34m)\u001b[0m\u001b[0;34m\u001b[0m\u001b[0;34m\u001b[0m\u001b[0m\n\u001b[0m\u001b[1;32m    426\u001b[0m \u001b[0;34m\u001b[0m\u001b[0m\n\u001b[1;32m    427\u001b[0m         \u001b[0;32mif\u001b[0m \u001b[0mfitted_feature_names\u001b[0m \u001b[0;32mis\u001b[0m \u001b[0;32mNone\u001b[0m \u001b[0;32mand\u001b[0m \u001b[0mX_feature_names\u001b[0m \u001b[0;32mis\u001b[0m \u001b[0;32mNone\u001b[0m\u001b[0;34m:\u001b[0m\u001b[0;34m\u001b[0m\u001b[0;34m\u001b[0m\u001b[0m\n",
            "\u001b[0;32m/usr/local/lib/python3.10/dist-packages/sklearn/utils/validation.py\u001b[0m in \u001b[0;36m_get_feature_names\u001b[0;34m(X)\u001b[0m\n\u001b[1;32m   1901\u001b[0m     \u001b[0;31m# mixed type of string and non-string is not supported\u001b[0m\u001b[0;34m\u001b[0m\u001b[0;34m\u001b[0m\u001b[0m\n\u001b[1;32m   1902\u001b[0m     \u001b[0;32mif\u001b[0m \u001b[0mlen\u001b[0m\u001b[0;34m(\u001b[0m\u001b[0mtypes\u001b[0m\u001b[0;34m)\u001b[0m \u001b[0;34m>\u001b[0m \u001b[0;36m1\u001b[0m \u001b[0;32mand\u001b[0m \u001b[0;34m\"str\"\u001b[0m \u001b[0;32min\u001b[0m \u001b[0mtypes\u001b[0m\u001b[0;34m:\u001b[0m\u001b[0;34m\u001b[0m\u001b[0;34m\u001b[0m\u001b[0m\n\u001b[0;32m-> 1903\u001b[0;31m         raise TypeError(\n\u001b[0m\u001b[1;32m   1904\u001b[0m             \u001b[0;34m\"Feature names are only supported if all input features have string names, \"\u001b[0m\u001b[0;34m\u001b[0m\u001b[0;34m\u001b[0m\u001b[0m\n\u001b[1;32m   1905\u001b[0m             \u001b[0;34mf\"but your input has {types} as feature name / column name types. \"\u001b[0m\u001b[0;34m\u001b[0m\u001b[0;34m\u001b[0m\u001b[0m\n",
            "\u001b[0;31mTypeError\u001b[0m: Feature names are only supported if all input features have string names, but your input has ['int', 'str'] as feature name / column name types. If you want feature names to be stored and validated, you must convert them all to strings, by using X.columns = X.columns.astype(str) for example. Otherwise you can remove feature / column names from your input data, or convert them all to a non-string data type."
          ]
        }
      ]
    },
    {
      "cell_type": "code",
      "source": [
        "def get_models():\n",
        "    models = dict()\n",
        "    for i in range(2, 21):\n",
        "        rfe = RFE(estimator=RandomForestClassifier(), n_features_to_select=i)\n",
        "        model = RandomForestClassifier()\n",
        "        models[str(i)] = Pipeline(steps=[('s',rfe),('m',model)])\n",
        "    return models\n",
        "\n",
        "def evaluate_model(model, X_train, y_train):\n",
        "    cv = RepeatedStratifiedKFold(n_splits=10, n_repeats=3, random_state=1)\n",
        "    scores = cross_val_score(model, X_train, y_train, scoring='accuracy', cv=cv, n_jobs=-1, error_score='raise')\n",
        "    return scores"
      ],
      "metadata": {
        "id": "uvf_elOH_KKG"
      },
      "execution_count": 47,
      "outputs": []
    },
    {
      "cell_type": "code",
      "source": [
        "models = get_models()\n",
        "# evaluate the models and store results\n",
        "results, names = list(), list()\n",
        "for name, model in models.items():\n",
        "\tscores = evaluate_model(model, X_train, y_train)\n",
        "\tresults.append(scores)\n",
        "\tnames.append(name)\n",
        "\tprint('>%s %.3f (%.3f)' % (name, mean(scores), std(scores)))\n",
        "# plot model performance for comparison\n",
        "pyplot.boxplot(results, labels=names, showmeans=True)\n",
        "pyplot.show()"
      ],
      "metadata": {
        "id": "QUzkjGXx_Jz2"
      },
      "execution_count": null,
      "outputs": []
    }
  ]
}